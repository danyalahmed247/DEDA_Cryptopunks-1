{
  "nbformat": 4,
  "nbformat_minor": 0,
  "metadata": {
    "colab": {
      "name": "While Looping.ipynb",
      "provenance": []
    },
    "kernelspec": {
      "name": "python3",
      "display_name": "Python 3"
    },
    "language_info": {
      "name": "python"
    }
  },
  "cells": [
    {
      "cell_type": "code",
      "metadata": {
        "id": "sreCfkhb0JZK"
      },
      "source": [
        "import requests\n",
        "from requests import get\n",
        "from bs4 import BeautifulSoup\n",
        "import pandas as pd\n",
        "import numpy as np\n",
        "from collections import OrderedDict\n",
        "\n",
        "import re\n",
        "from time import sleep\n",
        "from random import randint\n",
        "from google.colab import files\n",
        "import io"
      ],
      "execution_count": 19,
      "outputs": []
    },
    {
      "cell_type": "code",
      "metadata": {
        "id": "cNrx6UU0WXkY"
      },
      "source": [
        "def fix_dollar(x):\n",
        "  x=str(x)\n",
        "  x=x.replace(')', '') \n",
        "  x=x.replace('(', '') \n",
        "  x=x.replace('$', '')\n",
        "  if 'M' in x:\n",
        "    x=float(x.replace('M', ''))\n",
        "    x=x*1000000\n",
        "    return x\n",
        "  return x\n",
        "\n",
        "def fix_eth(x):\n",
        "  x=str(x)\n",
        "  x=x.replace('Ξ', '')\n",
        "  x=x.replace('<', '')\n",
        "  x=float(x)\n",
        "  return x"
      ],
      "execution_count": 20,
      "outputs": []
    },
    {
      "cell_type": "code",
      "metadata": {
        "id": "CQaJLRQi0MFT"
      },
      "source": [
        "last_id = 5\n",
        "headers = {\n",
        "    'User-Agent': 'Mozilla/5.0 (Windows NT 10.0; Win64; x64) AppleWebKit/537.36 (KHTML, like Gecko) Chrome/90.0.4430.93 Safari/537.36',\n",
        "    'From': 'danyal1921@gmail.com'\n",
        "}\n",
        "\n",
        "i= 0\n",
        "while i<= last_id:\n",
        "  page = requests.get(\"https://www.larvalabs.com/cryptopunks/details/{}\".format(i), headers)\n",
        "  soup = BeautifulSoup(page.text, \"html.parser\")\n",
        "\n",
        "  tr_hist = soup.find_all('table')\n",
        "  df = pd.read_html(str(tr_hist))[0]\n",
        "  df['punk_nr']=i\n",
        "  df['Txn'] = pd.to_datetime(df['Txn'])\n",
        "  df[['price_in_eth', 'price_in_dollars']] = df['Amount'].str.split(' ', 1, expand=True)\n",
        "  df.price_in_eth = df.price_in_eth.apply(fix_eth)\n",
        "  df.price_in_dollars = df.price_in_dollars.apply(fix_dollar)\n",
        "  df.drop('Amount', axis=1, inplace=True)\n",
        "  df.to_csv('transaction.csv', header=None, mode='a')\n",
        "\n",
        "  newlist=[[]]\n",
        "  newlist[0].append(i)\n",
        "  name = soup.find('div', class_='col-md-10 col-md-offset-1 col-xs-12')\n",
        "  newlist[0].append(name.h4.a.text)\n",
        "    \n",
        "  for y in soup.find_all('div', class_='col-md-4')[1:]:\n",
        "    newlist[0].append(y.a.get_text())\n",
        "\n",
        "  x = pd.DataFrame(newlist)\n",
        "  x.to_csv('accessories.csv', header=None, mode='a', index=False)\n",
        "\n",
        "  sleep(randint(2,10))\n",
        "  i += 1"
      ],
      "execution_count": 21,
      "outputs": []
    },
    {
      "cell_type": "code",
      "metadata": {
        "colab": {
          "base_uri": "https://localhost:8080/",
          "height": 17
        },
        "id": "uND_0ZAfYJxx",
        "outputId": "a3842cfa-e686-4c25-ffe8-5a5f7e83d893"
      },
      "source": [
        "files.download('transaction.csv')"
      ],
      "execution_count": 11,
      "outputs": [
        {
          "output_type": "display_data",
          "data": {
            "application/javascript": [
              "\n",
              "    async function download(id, filename, size) {\n",
              "      if (!google.colab.kernel.accessAllowed) {\n",
              "        return;\n",
              "      }\n",
              "      const div = document.createElement('div');\n",
              "      const label = document.createElement('label');\n",
              "      label.textContent = `Downloading \"${filename}\": `;\n",
              "      div.appendChild(label);\n",
              "      const progress = document.createElement('progress');\n",
              "      progress.max = size;\n",
              "      div.appendChild(progress);\n",
              "      document.body.appendChild(div);\n",
              "\n",
              "      const buffers = [];\n",
              "      let downloaded = 0;\n",
              "\n",
              "      const channel = await google.colab.kernel.comms.open(id);\n",
              "      // Send a message to notify the kernel that we're ready.\n",
              "      channel.send({})\n",
              "\n",
              "      for await (const message of channel.messages) {\n",
              "        // Send a message to notify the kernel that we're ready.\n",
              "        channel.send({})\n",
              "        if (message.buffers) {\n",
              "          for (const buffer of message.buffers) {\n",
              "            buffers.push(buffer);\n",
              "            downloaded += buffer.byteLength;\n",
              "            progress.value = downloaded;\n",
              "          }\n",
              "        }\n",
              "      }\n",
              "      const blob = new Blob(buffers, {type: 'application/binary'});\n",
              "      const a = document.createElement('a');\n",
              "      a.href = window.URL.createObjectURL(blob);\n",
              "      a.download = filename;\n",
              "      div.appendChild(a);\n",
              "      a.click();\n",
              "      div.remove();\n",
              "    }\n",
              "  "
            ],
            "text/plain": [
              "<IPython.core.display.Javascript object>"
            ]
          },
          "metadata": {
            "tags": []
          }
        },
        {
          "output_type": "display_data",
          "data": {
            "application/javascript": [
              "download(\"download_20370a40-7f21-42f9-b136-d18d570c8155\", \"test.csv\", 6488)"
            ],
            "text/plain": [
              "<IPython.core.display.Javascript object>"
            ]
          },
          "metadata": {
            "tags": []
          }
        }
      ]
    },
    {
      "cell_type": "code",
      "metadata": {
        "colab": {
          "base_uri": "https://localhost:8080/",
          "height": 17
        },
        "id": "bz1l-OLPerdn",
        "outputId": "bc3bf734-9daa-4933-d7f1-85e71e8e2e04"
      },
      "source": [
        "files.download('accessories.csv')"
      ],
      "execution_count": 18,
      "outputs": [
        {
          "output_type": "display_data",
          "data": {
            "application/javascript": [
              "\n",
              "    async function download(id, filename, size) {\n",
              "      if (!google.colab.kernel.accessAllowed) {\n",
              "        return;\n",
              "      }\n",
              "      const div = document.createElement('div');\n",
              "      const label = document.createElement('label');\n",
              "      label.textContent = `Downloading \"${filename}\": `;\n",
              "      div.appendChild(label);\n",
              "      const progress = document.createElement('progress');\n",
              "      progress.max = size;\n",
              "      div.appendChild(progress);\n",
              "      document.body.appendChild(div);\n",
              "\n",
              "      const buffers = [];\n",
              "      let downloaded = 0;\n",
              "\n",
              "      const channel = await google.colab.kernel.comms.open(id);\n",
              "      // Send a message to notify the kernel that we're ready.\n",
              "      channel.send({})\n",
              "\n",
              "      for await (const message of channel.messages) {\n",
              "        // Send a message to notify the kernel that we're ready.\n",
              "        channel.send({})\n",
              "        if (message.buffers) {\n",
              "          for (const buffer of message.buffers) {\n",
              "            buffers.push(buffer);\n",
              "            downloaded += buffer.byteLength;\n",
              "            progress.value = downloaded;\n",
              "          }\n",
              "        }\n",
              "      }\n",
              "      const blob = new Blob(buffers, {type: 'application/binary'});\n",
              "      const a = document.createElement('a');\n",
              "      a.href = window.URL.createObjectURL(blob);\n",
              "      a.download = filename;\n",
              "      div.appendChild(a);\n",
              "      a.click();\n",
              "      div.remove();\n",
              "    }\n",
              "  "
            ],
            "text/plain": [
              "<IPython.core.display.Javascript object>"
            ]
          },
          "metadata": {
            "tags": []
          }
        },
        {
          "output_type": "display_data",
          "data": {
            "application/javascript": [
              "download(\"download_ba2c560d-bad3-4267-b1b5-65a97fb7afd8\", \"accessories.csv\", 633)"
            ],
            "text/plain": [
              "<IPython.core.display.Javascript object>"
            ]
          },
          "metadata": {
            "tags": []
          }
        }
      ]
    }
  ]
}
