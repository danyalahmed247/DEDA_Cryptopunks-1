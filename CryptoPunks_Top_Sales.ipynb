{
  "nbformat": 4,
  "nbformat_minor": 0,
  "metadata": {
    "colab": {
      "name": "CryptoPunks - Top Sales",
      "provenance": []
    },
    "kernelspec": {
      "name": "python3",
      "display_name": "Python 3"
    },
    "language_info": {
      "name": "python"
    }
  },
  "cells": [
    {
      "cell_type": "code",
      "metadata": {
        "id": "Yi1OrrBnoYOV"
      },
      "source": [
        "import requests\n",
        "from bs4 import BeautifulSoup\n",
        "import pandas as pd\n",
        "import datetime"
      ],
      "execution_count": 178,
      "outputs": []
    },
    {
      "cell_type": "code",
      "metadata": {
        "id": "hzqcUFHE58Tv"
      },
      "source": [
        "page = requests.get('https://www.larvalabs.com/cryptopunks/topsales')\n",
        "soup = BeautifulSoup(page.content, 'html.parser')\n",
        "print(soup.prettify)"
      ],
      "execution_count": null,
      "outputs": []
    },
    {
      "cell_type": "code",
      "metadata": {
        "id": "n_rdqMmGBNhY"
      },
      "source": [
        "punk_id = []\n",
        "for ids in soup.find_all('div', attrs={'class': 'm-t-10'}):\n",
        "  punk_id.append([ids.get_text()])\n",
        "\n",
        "df_id = pd.DataFrame(punk_id)"
      ],
      "execution_count": 180,
      "outputs": []
    },
    {
      "cell_type": "code",
      "metadata": {
        "id": "rYYaU6yoIbqP"
      },
      "source": [
        "price = []\n",
        "for prices in soup.find_all('div', attrs = {'class': 'col-md-2 col-sm-3 col-xs-6 container-punk-event-large'}):\n",
        "  price.append(prices.find_all('div')[4].get_text())\n",
        "\n",
        "df_price = pd.DataFrame(price)"
      ],
      "execution_count": 181,
      "outputs": []
    },
    {
      "cell_type": "code",
      "metadata": {
        "id": "zWSKjya7MNmW"
      },
      "source": [
        "date = []\n",
        "for dates in soup.find_all('div', attrs = {'class': 'col-md-2 col-sm-3 col-xs-6 container-punk-event-large'}):\n",
        "  date.append(dates.find_all('div')[5].get_text())\n",
        "\n",
        "df_date = pd.DataFrame(date)"
      ],
      "execution_count": 182,
      "outputs": []
    },
    {
      "cell_type": "code",
      "metadata": {
        "id": "xbeyIyQ5MogG",
        "colab": {
          "base_uri": "https://localhost:8080/",
          "height": 204
        },
        "outputId": "a2d39e3e-4981-4587-874c-c2c88c36325d"
      },
      "source": [
        "df_top_sales = df_id\n",
        "df_top_sales = df_top_sales.rename(columns={0:'punk_id'})\n",
        "df_top_sales['punk_id']= df_top_sales['punk_id'].replace({'#':''}, regex=True)\n",
        "df_top_sales['punk_id'] = df_top_sales['punk_id'].astype(str).astype(int)\n",
        "df_top_sales.head()"
      ],
      "execution_count": 183,
      "outputs": [
        {
          "output_type": "execute_result",
          "data": {
            "text/html": [
              "<div>\n",
              "<style scoped>\n",
              "    .dataframe tbody tr th:only-of-type {\n",
              "        vertical-align: middle;\n",
              "    }\n",
              "\n",
              "    .dataframe tbody tr th {\n",
              "        vertical-align: top;\n",
              "    }\n",
              "\n",
              "    .dataframe thead th {\n",
              "        text-align: right;\n",
              "    }\n",
              "</style>\n",
              "<table border=\"1\" class=\"dataframe\">\n",
              "  <thead>\n",
              "    <tr style=\"text-align: right;\">\n",
              "      <th></th>\n",
              "      <th>punk_id</th>\n",
              "    </tr>\n",
              "  </thead>\n",
              "  <tbody>\n",
              "    <tr>\n",
              "      <th>0</th>\n",
              "      <td>7804</td>\n",
              "    </tr>\n",
              "    <tr>\n",
              "      <th>1</th>\n",
              "      <td>3100</td>\n",
              "    </tr>\n",
              "    <tr>\n",
              "      <th>2</th>\n",
              "      <td>6965</td>\n",
              "    </tr>\n",
              "    <tr>\n",
              "      <th>3</th>\n",
              "      <td>2140</td>\n",
              "    </tr>\n",
              "    <tr>\n",
              "      <th>4</th>\n",
              "      <td>3011</td>\n",
              "    </tr>\n",
              "  </tbody>\n",
              "</table>\n",
              "</div>"
            ],
            "text/plain": [
              "   punk_id\n",
              "0     7804\n",
              "1     3100\n",
              "2     6965\n",
              "3     2140\n",
              "4     3011"
            ]
          },
          "metadata": {
            "tags": []
          },
          "execution_count": 183
        }
      ]
    },
    {
      "cell_type": "code",
      "metadata": {
        "id": "F5iZlC3eQc2A",
        "colab": {
          "base_uri": "https://localhost:8080/",
          "height": 204
        },
        "outputId": "6d7550cb-5035-4886-e54b-a972adf4f5cb"
      },
      "source": [
        "#Join Prices\n",
        "df_top_sales = df_top_sales.join(df_price, on=df_top_sales.index, how='left', lsuffix='_', rsuffix='_')\n",
        "df_top_sales = df_top_sales.rename(columns={0:'prices'})\n",
        "\n",
        "#Split Prices into two columns\n",
        "df_top_sales[['price_in_eth', 'price_in_dollars']] = df_top_sales['prices'].str.split(' ', 1, expand=True)\n",
        "del df_top_sales['prices']\n",
        "df_top_sales.head()"
      ],
      "execution_count": 184,
      "outputs": [
        {
          "output_type": "execute_result",
          "data": {
            "text/html": [
              "<div>\n",
              "<style scoped>\n",
              "    .dataframe tbody tr th:only-of-type {\n",
              "        vertical-align: middle;\n",
              "    }\n",
              "\n",
              "    .dataframe tbody tr th {\n",
              "        vertical-align: top;\n",
              "    }\n",
              "\n",
              "    .dataframe thead th {\n",
              "        text-align: right;\n",
              "    }\n",
              "</style>\n",
              "<table border=\"1\" class=\"dataframe\">\n",
              "  <thead>\n",
              "    <tr style=\"text-align: right;\">\n",
              "      <th></th>\n",
              "      <th>punk_id</th>\n",
              "      <th>price_in_eth</th>\n",
              "      <th>price_in_dollars</th>\n",
              "    </tr>\n",
              "  </thead>\n",
              "  <tbody>\n",
              "    <tr>\n",
              "      <th>0</th>\n",
              "      <td>7804</td>\n",
              "      <td>4.2KΞ</td>\n",
              "      <td>($7.57M)</td>\n",
              "    </tr>\n",
              "    <tr>\n",
              "      <th>1</th>\n",
              "      <td>3100</td>\n",
              "      <td>4.2KΞ</td>\n",
              "      <td>($7.58M)</td>\n",
              "    </tr>\n",
              "    <tr>\n",
              "      <th>2</th>\n",
              "      <td>6965</td>\n",
              "      <td>800Ξ</td>\n",
              "      <td>($1.54M)</td>\n",
              "    </tr>\n",
              "    <tr>\n",
              "      <th>3</th>\n",
              "      <td>2140</td>\n",
              "      <td>750Ξ</td>\n",
              "      <td>($1.18M)</td>\n",
              "    </tr>\n",
              "    <tr>\n",
              "      <th>4</th>\n",
              "      <td>3011</td>\n",
              "      <td>667Ξ</td>\n",
              "      <td>($1.76M)</td>\n",
              "    </tr>\n",
              "  </tbody>\n",
              "</table>\n",
              "</div>"
            ],
            "text/plain": [
              "   punk_id price_in_eth price_in_dollars\n",
              "0     7804        4.2KΞ         ($7.57M)\n",
              "1     3100        4.2KΞ         ($7.58M)\n",
              "2     6965         800Ξ         ($1.54M)\n",
              "3     2140         750Ξ         ($1.18M)\n",
              "4     3011         667Ξ         ($1.76M)"
            ]
          },
          "metadata": {
            "tags": []
          },
          "execution_count": 184
        }
      ]
    },
    {
      "cell_type": "code",
      "metadata": {
        "id": "WV2uh1cFVSeb",
        "colab": {
          "base_uri": "https://localhost:8080/",
          "height": 204
        },
        "outputId": "40bf012a-85b6-44dc-b574-1d9b94491d9b"
      },
      "source": [
        "#Remove special characters\n",
        "df_top_sales['price_in_eth']= df_top_sales['price_in_eth'].replace({'Ξ':''}, regex=True)\n",
        "df_top_sales['price_in_dollars'] = df_top_sales['price_in_dollars'].replace(to_replace='\\(', value=\"\", regex=True)\n",
        "df_top_sales['price_in_dollars'] = df_top_sales['price_in_dollars'].replace(to_replace='\\)', value=\"\", regex=True)\n",
        "df_top_sales['price_in_dollars'] = df_top_sales['price_in_dollars'].str.replace('$', '')\n",
        "df_top_sales.head()"
      ],
      "execution_count": 185,
      "outputs": [
        {
          "output_type": "execute_result",
          "data": {
            "text/html": [
              "<div>\n",
              "<style scoped>\n",
              "    .dataframe tbody tr th:only-of-type {\n",
              "        vertical-align: middle;\n",
              "    }\n",
              "\n",
              "    .dataframe tbody tr th {\n",
              "        vertical-align: top;\n",
              "    }\n",
              "\n",
              "    .dataframe thead th {\n",
              "        text-align: right;\n",
              "    }\n",
              "</style>\n",
              "<table border=\"1\" class=\"dataframe\">\n",
              "  <thead>\n",
              "    <tr style=\"text-align: right;\">\n",
              "      <th></th>\n",
              "      <th>punk_id</th>\n",
              "      <th>price_in_eth</th>\n",
              "      <th>price_in_dollars</th>\n",
              "    </tr>\n",
              "  </thead>\n",
              "  <tbody>\n",
              "    <tr>\n",
              "      <th>0</th>\n",
              "      <td>7804</td>\n",
              "      <td>4.2K</td>\n",
              "      <td>7.57M</td>\n",
              "    </tr>\n",
              "    <tr>\n",
              "      <th>1</th>\n",
              "      <td>3100</td>\n",
              "      <td>4.2K</td>\n",
              "      <td>7.58M</td>\n",
              "    </tr>\n",
              "    <tr>\n",
              "      <th>2</th>\n",
              "      <td>6965</td>\n",
              "      <td>800</td>\n",
              "      <td>1.54M</td>\n",
              "    </tr>\n",
              "    <tr>\n",
              "      <th>3</th>\n",
              "      <td>2140</td>\n",
              "      <td>750</td>\n",
              "      <td>1.18M</td>\n",
              "    </tr>\n",
              "    <tr>\n",
              "      <th>4</th>\n",
              "      <td>3011</td>\n",
              "      <td>667</td>\n",
              "      <td>1.76M</td>\n",
              "    </tr>\n",
              "  </tbody>\n",
              "</table>\n",
              "</div>"
            ],
            "text/plain": [
              "   punk_id price_in_eth price_in_dollars\n",
              "0     7804         4.2K            7.57M\n",
              "1     3100         4.2K            7.58M\n",
              "2     6965          800            1.54M\n",
              "3     2140          750            1.18M\n",
              "4     3011          667            1.76M"
            ]
          },
          "metadata": {
            "tags": []
          },
          "execution_count": 185
        }
      ]
    },
    {
      "cell_type": "code",
      "metadata": {
        "colab": {
          "base_uri": "https://localhost:8080/",
          "height": 204
        },
        "id": "qL2QSgiFdEic",
        "outputId": "30e0dd22-741b-4ad2-a64d-6065522da1b9"
      },
      "source": [
        "#Convert strings into numbers\n",
        "df_top_sales['price_in_eth'] = df_top_sales['price_in_eth'].replace({'K': '*1e3'}, regex=True).map(pd.eval).astype(int)\n",
        "df_top_sales['price_in_dollars'] = df_top_sales['price_in_dollars'].replace({'K': '*1e3', 'M': '*1e6'}, regex=True).map(pd.eval).astype(int)\n",
        "df_top_sales.head()"
      ],
      "execution_count": 186,
      "outputs": [
        {
          "output_type": "execute_result",
          "data": {
            "text/html": [
              "<div>\n",
              "<style scoped>\n",
              "    .dataframe tbody tr th:only-of-type {\n",
              "        vertical-align: middle;\n",
              "    }\n",
              "\n",
              "    .dataframe tbody tr th {\n",
              "        vertical-align: top;\n",
              "    }\n",
              "\n",
              "    .dataframe thead th {\n",
              "        text-align: right;\n",
              "    }\n",
              "</style>\n",
              "<table border=\"1\" class=\"dataframe\">\n",
              "  <thead>\n",
              "    <tr style=\"text-align: right;\">\n",
              "      <th></th>\n",
              "      <th>punk_id</th>\n",
              "      <th>price_in_eth</th>\n",
              "      <th>price_in_dollars</th>\n",
              "    </tr>\n",
              "  </thead>\n",
              "  <tbody>\n",
              "    <tr>\n",
              "      <th>0</th>\n",
              "      <td>7804</td>\n",
              "      <td>4200</td>\n",
              "      <td>7570000</td>\n",
              "    </tr>\n",
              "    <tr>\n",
              "      <th>1</th>\n",
              "      <td>3100</td>\n",
              "      <td>4200</td>\n",
              "      <td>7580000</td>\n",
              "    </tr>\n",
              "    <tr>\n",
              "      <th>2</th>\n",
              "      <td>6965</td>\n",
              "      <td>800</td>\n",
              "      <td>1540000</td>\n",
              "    </tr>\n",
              "    <tr>\n",
              "      <th>3</th>\n",
              "      <td>2140</td>\n",
              "      <td>750</td>\n",
              "      <td>1180000</td>\n",
              "    </tr>\n",
              "    <tr>\n",
              "      <th>4</th>\n",
              "      <td>3011</td>\n",
              "      <td>667</td>\n",
              "      <td>1760000</td>\n",
              "    </tr>\n",
              "  </tbody>\n",
              "</table>\n",
              "</div>"
            ],
            "text/plain": [
              "   punk_id  price_in_eth  price_in_dollars\n",
              "0     7804          4200           7570000\n",
              "1     3100          4200           7580000\n",
              "2     6965           800           1540000\n",
              "3     2140           750           1180000\n",
              "4     3011           667           1760000"
            ]
          },
          "metadata": {
            "tags": []
          },
          "execution_count": 186
        }
      ]
    },
    {
      "cell_type": "code",
      "metadata": {
        "id": "IXm_HLo3i1G7"
      },
      "source": [
        "#Join Dates\n",
        "df_top_sales = df_top_sales.join(df_date, on=df_top_sales.index, how='left', lsuffix='_', rsuffix='_')\n",
        "df_top_sales = df_top_sales.rename(columns={0:'date_of_sale'})\n",
        "df_top_sales['date_of_sale'] = pd.to_datetime(df_top_sales['date_of_sale'], infer_datetime_format=True)"
      ],
      "execution_count": 187,
      "outputs": []
    },
    {
      "cell_type": "code",
      "metadata": {
        "id": "1gzYoPeyjEGS"
      },
      "source": [
        "df_top_sales"
      ],
      "execution_count": null,
      "outputs": []
    }
  ]
}