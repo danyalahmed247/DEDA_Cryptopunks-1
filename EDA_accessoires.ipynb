{
  "nbformat": 4,
  "nbformat_minor": 0,
  "metadata": {
    "colab": {
      "name": "Untitled0.ipynb",
      "provenance": [],
      "collapsed_sections": [],
      "toc_visible": true,
      "authorship_tag": "ABX9TyPs14N/wC0g9VNMf/qFuv93",
      "include_colab_link": true
    },
    "kernelspec": {
      "name": "python3",
      "display_name": "Python 3"
    },
    "language_info": {
      "name": "python"
    }
  },
  "cells": [
    {
      "cell_type": "markdown",
      "metadata": {
        "id": "view-in-github",
        "colab_type": "text"
      },
      "source": [
        "<a href=\"https://colab.research.google.com/github/kalinakalina/DEDA_Cryptopunks/blob/main/EDA_accessoires.ipynb\" target=\"_parent\"><img src=\"https://colab.research.google.com/assets/colab-badge.svg\" alt=\"Open In Colab\"/></a>"
      ]
    },
    {
      "cell_type": "code",
      "metadata": {
        "id": "4IyRvhzbhiVG"
      },
      "source": [
        "# imports\n",
        "import pandas as pd \n",
        "import requests\n",
        "from requests import get\n",
        "from bs4 import BeautifulSoup\n",
        "import numpy as np\n",
        "import seaborn as sns\n",
        "\n"
      ],
      "execution_count": 1,
      "outputs": []
    },
    {
      "cell_type": "code",
      "metadata": {
        "id": "XYGV99IA4YRc"
      },
      "source": [
        "# helper functions\n",
        "def fix_eth(x):\n",
        "  x=str(x)\n",
        "  x=x.replace('Ξ', '')\n",
        "  x=x.replace('<', '')\n",
        "  x=x.replace(',', '')\n",
        "  if 'K' in x:\n",
        "    x=float(x.replace('K', ''))\n",
        "    x=x*1000\n",
        "    return x\n",
        "  return x"
      ],
      "execution_count": 3,
      "outputs": []
    },
    {
      "cell_type": "code",
      "metadata": {
        "colab": {
          "base_uri": "https://localhost:8080/",
          "height": 199
        },
        "id": "4MXtXAEqhhrb",
        "outputId": "7322b504-0d5a-4313-e844-fa3e2ccdf639"
      },
      "source": [
        "# import transaction \n",
        "file = 'https://raw.githubusercontent.com/kalinakalina/DEDA_Cryptopunks/main/transaction.csv?token=AH46LUSFPS756K3PCIWICNDAUN3MS'\n",
        "dft = pd.read_csv(file, header=None)\n",
        "dft.head()"
      ],
      "execution_count": null,
      "outputs": [
        {
          "output_type": "execute_result",
          "data": {
            "text/html": [
              "<div>\n",
              "<style scoped>\n",
              "    .dataframe tbody tr th:only-of-type {\n",
              "        vertical-align: middle;\n",
              "    }\n",
              "\n",
              "    .dataframe tbody tr th {\n",
              "        vertical-align: top;\n",
              "    }\n",
              "\n",
              "    .dataframe thead th {\n",
              "        text-align: right;\n",
              "    }\n",
              "</style>\n",
              "<table border=\"1\" class=\"dataframe\">\n",
              "  <thead>\n",
              "    <tr style=\"text-align: right;\">\n",
              "      <th></th>\n",
              "      <th>0</th>\n",
              "      <th>1</th>\n",
              "      <th>2</th>\n",
              "      <th>3</th>\n",
              "      <th>4</th>\n",
              "      <th>5</th>\n",
              "      <th>6</th>\n",
              "      <th>7</th>\n",
              "    </tr>\n",
              "  </thead>\n",
              "  <tbody>\n",
              "    <tr>\n",
              "      <th>0</th>\n",
              "      <td>0</td>\n",
              "      <td>Bid Withdrawn</td>\n",
              "      <td>0x983ace</td>\n",
              "      <td>NaN</td>\n",
              "      <td>2021-05-10</td>\n",
              "      <td>0</td>\n",
              "      <td>250.0</td>\n",
              "      <td>1030000.0</td>\n",
              "    </tr>\n",
              "    <tr>\n",
              "      <th>1</th>\n",
              "      <td>1</td>\n",
              "      <td>Bid</td>\n",
              "      <td>0x983ace</td>\n",
              "      <td>NaN</td>\n",
              "      <td>2021-04-11</td>\n",
              "      <td>0</td>\n",
              "      <td>250.0</td>\n",
              "      <td>537,615</td>\n",
              "    </tr>\n",
              "    <tr>\n",
              "      <th>2</th>\n",
              "      <td>2</td>\n",
              "      <td>Bid Withdrawn</td>\n",
              "      <td>0xd7510a</td>\n",
              "      <td>NaN</td>\n",
              "      <td>2021-03-03</td>\n",
              "      <td>0</td>\n",
              "      <td>100.0</td>\n",
              "      <td>160,973</td>\n",
              "    </tr>\n",
              "    <tr>\n",
              "      <th>3</th>\n",
              "      <td>3</td>\n",
              "      <td>Bid</td>\n",
              "      <td>0xd7510a</td>\n",
              "      <td>NaN</td>\n",
              "      <td>2021-02-20</td>\n",
              "      <td>0</td>\n",
              "      <td>100.0</td>\n",
              "      <td>188,897</td>\n",
              "    </tr>\n",
              "    <tr>\n",
              "      <th>4</th>\n",
              "      <td>4</td>\n",
              "      <td>Bid Withdrawn</td>\n",
              "      <td>natealex</td>\n",
              "      <td>NaN</td>\n",
              "      <td>2020-09-16</td>\n",
              "      <td>0</td>\n",
              "      <td>69.0</td>\n",
              "      <td>25,532</td>\n",
              "    </tr>\n",
              "  </tbody>\n",
              "</table>\n",
              "</div>"
            ],
            "text/plain": [
              "   0              1         2    3           4  5      6          7\n",
              "0  0  Bid Withdrawn  0x983ace  NaN  2021-05-10  0  250.0  1030000.0\n",
              "1  1            Bid  0x983ace  NaN  2021-04-11  0  250.0    537,615\n",
              "2  2  Bid Withdrawn  0xd7510a  NaN  2021-03-03  0  100.0    160,973\n",
              "3  3            Bid  0xd7510a  NaN  2021-02-20  0  100.0    188,897\n",
              "4  4  Bid Withdrawn  natealex  NaN  2020-09-16  0   69.0     25,532"
            ]
          },
          "metadata": {
            "tags": []
          },
          "execution_count": 14
        }
      ]
    },
    {
      "cell_type": "code",
      "metadata": {
        "colab": {
          "base_uri": "https://localhost:8080/",
          "height": 202
        },
        "id": "yHQeIoghfJw1",
        "outputId": "cf75b082-eb80-4168-b963-d8142f0bcc83"
      },
      "source": [
        "# import accessoires \n",
        "names=['gender', 'acc_1', 'acc_2', 'acc_3', 'acc_4', 'acc_5', 'acc_6', 'acc_7']\n",
        "file = 'https://raw.githubusercontent.com/kalinakalina/DEDA_Cryptopunks/main/accessories.csv?token=AH46LUXAUSZ7WKYQHT5CYFDAVEOK2'\n",
        "df = pd.read_csv(file, header=None, sep='\\n')\n",
        "df = df[0].str.split(',', expand=True)\n",
        "df.drop(0, axis=1, inplace=True)\n",
        "df.head()\n"
      ],
      "execution_count": 2,
      "outputs": [
        {
          "output_type": "execute_result",
          "data": {
            "text/html": [
              "<div>\n",
              "<style scoped>\n",
              "    .dataframe tbody tr th:only-of-type {\n",
              "        vertical-align: middle;\n",
              "    }\n",
              "\n",
              "    .dataframe tbody tr th {\n",
              "        vertical-align: top;\n",
              "    }\n",
              "\n",
              "    .dataframe thead th {\n",
              "        text-align: right;\n",
              "    }\n",
              "</style>\n",
              "<table border=\"1\" class=\"dataframe\">\n",
              "  <thead>\n",
              "    <tr style=\"text-align: right;\">\n",
              "      <th></th>\n",
              "      <th>1</th>\n",
              "      <th>2</th>\n",
              "      <th>3</th>\n",
              "      <th>4</th>\n",
              "      <th>5</th>\n",
              "      <th>6</th>\n",
              "      <th>7</th>\n",
              "      <th>8</th>\n",
              "    </tr>\n",
              "  </thead>\n",
              "  <tbody>\n",
              "    <tr>\n",
              "      <th>0</th>\n",
              "      <td>Female</td>\n",
              "      <td>Green Eye Shadow</td>\n",
              "      <td>Earring</td>\n",
              "      <td>Blonde Bob</td>\n",
              "      <td>None</td>\n",
              "      <td>None</td>\n",
              "      <td>None</td>\n",
              "      <td>None</td>\n",
              "    </tr>\n",
              "    <tr>\n",
              "      <th>1</th>\n",
              "      <td>Male</td>\n",
              "      <td>Smile</td>\n",
              "      <td>Mohawk</td>\n",
              "      <td>None</td>\n",
              "      <td>None</td>\n",
              "      <td>None</td>\n",
              "      <td>None</td>\n",
              "      <td>None</td>\n",
              "    </tr>\n",
              "    <tr>\n",
              "      <th>2</th>\n",
              "      <td>Female</td>\n",
              "      <td>Wild Hair</td>\n",
              "      <td>None</td>\n",
              "      <td>None</td>\n",
              "      <td>None</td>\n",
              "      <td>None</td>\n",
              "      <td>None</td>\n",
              "      <td>None</td>\n",
              "    </tr>\n",
              "    <tr>\n",
              "      <th>3</th>\n",
              "      <td>Male</td>\n",
              "      <td>Wild Hair</td>\n",
              "      <td>Nerd Glasses</td>\n",
              "      <td>Pipe</td>\n",
              "      <td>None</td>\n",
              "      <td>None</td>\n",
              "      <td>None</td>\n",
              "      <td>None</td>\n",
              "    </tr>\n",
              "    <tr>\n",
              "      <th>4</th>\n",
              "      <td>Male</td>\n",
              "      <td>Big Shades</td>\n",
              "      <td>Wild Hair</td>\n",
              "      <td>Earring</td>\n",
              "      <td>Goat</td>\n",
              "      <td>None</td>\n",
              "      <td>None</td>\n",
              "      <td>None</td>\n",
              "    </tr>\n",
              "  </tbody>\n",
              "</table>\n",
              "</div>"
            ],
            "text/plain": [
              "        1                 2             3           4     5     6     7     8\n",
              "0  Female  Green Eye Shadow       Earring  Blonde Bob  None  None  None  None\n",
              "1    Male             Smile        Mohawk        None  None  None  None  None\n",
              "2  Female         Wild Hair          None        None  None  None  None  None\n",
              "3    Male         Wild Hair  Nerd Glasses        Pipe  None  None  None  None\n",
              "4    Male        Big Shades     Wild Hair     Earring  Goat  None  None  None"
            ]
          },
          "metadata": {
            "tags": []
          },
          "execution_count": 2
        }
      ]
    },
    {
      "cell_type": "code",
      "metadata": {
        "colab": {
          "base_uri": "https://localhost:8080/",
          "height": 202
        },
        "id": "Ah2FlVO1hNpl",
        "outputId": "96d7e386-b6c7-4d35-bb1b-9c3d10044c8c"
      },
      "source": [
        "dict={1:'gender', \n",
        "      2:  'acc_1',\n",
        "      3:'acc_2', \n",
        "      4: 'acc_3',\n",
        "      5:'acc_4',\n",
        "      6: 'acc_5',\n",
        "      7:'acc_6',\n",
        "      8:'acc_7'}\n",
        "df.rename(columns=dict,\n",
        "          inplace=True)\n",
        "  \n",
        "df.head()"
      ],
      "execution_count": 4,
      "outputs": [
        {
          "output_type": "execute_result",
          "data": {
            "text/html": [
              "<div>\n",
              "<style scoped>\n",
              "    .dataframe tbody tr th:only-of-type {\n",
              "        vertical-align: middle;\n",
              "    }\n",
              "\n",
              "    .dataframe tbody tr th {\n",
              "        vertical-align: top;\n",
              "    }\n",
              "\n",
              "    .dataframe thead th {\n",
              "        text-align: right;\n",
              "    }\n",
              "</style>\n",
              "<table border=\"1\" class=\"dataframe\">\n",
              "  <thead>\n",
              "    <tr style=\"text-align: right;\">\n",
              "      <th></th>\n",
              "      <th>gender</th>\n",
              "      <th>acc_1</th>\n",
              "      <th>acc_2</th>\n",
              "      <th>acc_3</th>\n",
              "      <th>acc_4</th>\n",
              "      <th>acc_5</th>\n",
              "      <th>acc_6</th>\n",
              "      <th>acc_7</th>\n",
              "    </tr>\n",
              "  </thead>\n",
              "  <tbody>\n",
              "    <tr>\n",
              "      <th>0</th>\n",
              "      <td>Female</td>\n",
              "      <td>Green Eye Shadow</td>\n",
              "      <td>Earring</td>\n",
              "      <td>Blonde Bob</td>\n",
              "      <td>None</td>\n",
              "      <td>None</td>\n",
              "      <td>None</td>\n",
              "      <td>None</td>\n",
              "    </tr>\n",
              "    <tr>\n",
              "      <th>1</th>\n",
              "      <td>Male</td>\n",
              "      <td>Smile</td>\n",
              "      <td>Mohawk</td>\n",
              "      <td>None</td>\n",
              "      <td>None</td>\n",
              "      <td>None</td>\n",
              "      <td>None</td>\n",
              "      <td>None</td>\n",
              "    </tr>\n",
              "    <tr>\n",
              "      <th>2</th>\n",
              "      <td>Female</td>\n",
              "      <td>Wild Hair</td>\n",
              "      <td>None</td>\n",
              "      <td>None</td>\n",
              "      <td>None</td>\n",
              "      <td>None</td>\n",
              "      <td>None</td>\n",
              "      <td>None</td>\n",
              "    </tr>\n",
              "    <tr>\n",
              "      <th>3</th>\n",
              "      <td>Male</td>\n",
              "      <td>Wild Hair</td>\n",
              "      <td>Nerd Glasses</td>\n",
              "      <td>Pipe</td>\n",
              "      <td>None</td>\n",
              "      <td>None</td>\n",
              "      <td>None</td>\n",
              "      <td>None</td>\n",
              "    </tr>\n",
              "    <tr>\n",
              "      <th>4</th>\n",
              "      <td>Male</td>\n",
              "      <td>Big Shades</td>\n",
              "      <td>Wild Hair</td>\n",
              "      <td>Earring</td>\n",
              "      <td>Goat</td>\n",
              "      <td>None</td>\n",
              "      <td>None</td>\n",
              "      <td>None</td>\n",
              "    </tr>\n",
              "  </tbody>\n",
              "</table>\n",
              "</div>"
            ],
            "text/plain": [
              "   gender             acc_1         acc_2       acc_3 acc_4 acc_5 acc_6 acc_7\n",
              "0  Female  Green Eye Shadow       Earring  Blonde Bob  None  None  None  None\n",
              "1    Male             Smile        Mohawk        None  None  None  None  None\n",
              "2  Female         Wild Hair          None        None  None  None  None  None\n",
              "3    Male         Wild Hair  Nerd Glasses        Pipe  None  None  None  None\n",
              "4    Male        Big Shades     Wild Hair     Earring  Goat  None  None  None"
            ]
          },
          "metadata": {
            "tags": []
          },
          "execution_count": 4
        }
      ]
    },
    {
      "cell_type": "code",
      "metadata": {
        "colab": {
          "base_uri": "https://localhost:8080/"
        },
        "id": "mrylH87TjgU4",
        "outputId": "b23a0e1f-721b-4c9a-cb03-fdf938a77797"
      },
      "source": [
        "columns = df.select_dtypes(include=[object]).columns\n",
        "df[columns] = df[columns].astype('category')\n",
        "df.info()"
      ],
      "execution_count": 5,
      "outputs": [
        {
          "output_type": "stream",
          "text": [
            "<class 'pandas.core.frame.DataFrame'>\n",
            "RangeIndex: 10000 entries, 0 to 9999\n",
            "Data columns (total 8 columns):\n",
            " #   Column  Non-Null Count  Dtype   \n",
            "---  ------  --------------  -----   \n",
            " 0   gender  10000 non-null  category\n",
            " 1   acc_1   9992 non-null   category\n",
            " 2   acc_2   9659 non-null   category\n",
            " 3   acc_3   6099 non-null   category\n",
            " 4   acc_4   1598 non-null   category\n",
            " 5   acc_5   178 non-null    category\n",
            " 6   acc_6   12 non-null     category\n",
            " 7   acc_7   1 non-null      category\n",
            "dtypes: category(8)\n",
            "memory usage: 92.9 KB\n"
          ],
          "name": "stdout"
        }
      ]
    },
    {
      "cell_type": "code",
      "metadata": {
        "id": "bhlpDfdOOQ7f"
      },
      "source": [
        ""
      ],
      "execution_count": 5,
      "outputs": []
    },
    {
      "cell_type": "code",
      "metadata": {
        "id": "DSTA38XROVha",
        "outputId": "a08e05ea-844a-413f-e24d-80909956a07a",
        "colab": {
          "base_uri": "https://localhost:8080/",
          "height": 415
        }
      },
      "source": [
        "df"
      ],
      "execution_count": 6,
      "outputs": [
        {
          "output_type": "execute_result",
          "data": {
            "text/html": [
              "<div>\n",
              "<style scoped>\n",
              "    .dataframe tbody tr th:only-of-type {\n",
              "        vertical-align: middle;\n",
              "    }\n",
              "\n",
              "    .dataframe tbody tr th {\n",
              "        vertical-align: top;\n",
              "    }\n",
              "\n",
              "    .dataframe thead th {\n",
              "        text-align: right;\n",
              "    }\n",
              "</style>\n",
              "<table border=\"1\" class=\"dataframe\">\n",
              "  <thead>\n",
              "    <tr style=\"text-align: right;\">\n",
              "      <th></th>\n",
              "      <th>gender</th>\n",
              "      <th>acc_1</th>\n",
              "      <th>acc_2</th>\n",
              "      <th>acc_3</th>\n",
              "      <th>acc_4</th>\n",
              "      <th>acc_5</th>\n",
              "      <th>acc_6</th>\n",
              "      <th>acc_7</th>\n",
              "    </tr>\n",
              "  </thead>\n",
              "  <tbody>\n",
              "    <tr>\n",
              "      <th>0</th>\n",
              "      <td>Female</td>\n",
              "      <td>Green Eye Shadow</td>\n",
              "      <td>Earring</td>\n",
              "      <td>Blonde Bob</td>\n",
              "      <td>NaN</td>\n",
              "      <td>NaN</td>\n",
              "      <td>NaN</td>\n",
              "      <td>NaN</td>\n",
              "    </tr>\n",
              "    <tr>\n",
              "      <th>1</th>\n",
              "      <td>Male</td>\n",
              "      <td>Smile</td>\n",
              "      <td>Mohawk</td>\n",
              "      <td>NaN</td>\n",
              "      <td>NaN</td>\n",
              "      <td>NaN</td>\n",
              "      <td>NaN</td>\n",
              "      <td>NaN</td>\n",
              "    </tr>\n",
              "    <tr>\n",
              "      <th>2</th>\n",
              "      <td>Female</td>\n",
              "      <td>Wild Hair</td>\n",
              "      <td>NaN</td>\n",
              "      <td>NaN</td>\n",
              "      <td>NaN</td>\n",
              "      <td>NaN</td>\n",
              "      <td>NaN</td>\n",
              "      <td>NaN</td>\n",
              "    </tr>\n",
              "    <tr>\n",
              "      <th>3</th>\n",
              "      <td>Male</td>\n",
              "      <td>Wild Hair</td>\n",
              "      <td>Nerd Glasses</td>\n",
              "      <td>Pipe</td>\n",
              "      <td>NaN</td>\n",
              "      <td>NaN</td>\n",
              "      <td>NaN</td>\n",
              "      <td>NaN</td>\n",
              "    </tr>\n",
              "    <tr>\n",
              "      <th>4</th>\n",
              "      <td>Male</td>\n",
              "      <td>Big Shades</td>\n",
              "      <td>Wild Hair</td>\n",
              "      <td>Earring</td>\n",
              "      <td>Goat</td>\n",
              "      <td>NaN</td>\n",
              "      <td>NaN</td>\n",
              "      <td>NaN</td>\n",
              "    </tr>\n",
              "    <tr>\n",
              "      <th>...</th>\n",
              "      <td>...</td>\n",
              "      <td>...</td>\n",
              "      <td>...</td>\n",
              "      <td>...</td>\n",
              "      <td>...</td>\n",
              "      <td>...</td>\n",
              "      <td>...</td>\n",
              "      <td>...</td>\n",
              "    </tr>\n",
              "    <tr>\n",
              "      <th>9995</th>\n",
              "      <td>Female</td>\n",
              "      <td>Purple Eye Shadow</td>\n",
              "      <td>Straight Hair Dark</td>\n",
              "      <td>NaN</td>\n",
              "      <td>NaN</td>\n",
              "      <td>NaN</td>\n",
              "      <td>NaN</td>\n",
              "      <td>NaN</td>\n",
              "    </tr>\n",
              "    <tr>\n",
              "      <th>9996</th>\n",
              "      <td>Male</td>\n",
              "      <td>Cigarette</td>\n",
              "      <td>Earring</td>\n",
              "      <td>Crazy Hair</td>\n",
              "      <td>Smile</td>\n",
              "      <td>NaN</td>\n",
              "      <td>NaN</td>\n",
              "      <td>NaN</td>\n",
              "    </tr>\n",
              "    <tr>\n",
              "      <th>9997</th>\n",
              "      <td>Zombie</td>\n",
              "      <td>Front Beard</td>\n",
              "      <td>Cap Forward</td>\n",
              "      <td>NaN</td>\n",
              "      <td>NaN</td>\n",
              "      <td>NaN</td>\n",
              "      <td>NaN</td>\n",
              "      <td>NaN</td>\n",
              "    </tr>\n",
              "    <tr>\n",
              "      <th>9998</th>\n",
              "      <td>Female</td>\n",
              "      <td>Wild White Hair</td>\n",
              "      <td>Black Lipstick</td>\n",
              "      <td>Clown Eyes Green</td>\n",
              "      <td>NaN</td>\n",
              "      <td>NaN</td>\n",
              "      <td>NaN</td>\n",
              "      <td>NaN</td>\n",
              "    </tr>\n",
              "    <tr>\n",
              "      <th>9999</th>\n",
              "      <td>Female</td>\n",
              "      <td>Mohawk</td>\n",
              "      <td>Nerd Glasses</td>\n",
              "      <td>NaN</td>\n",
              "      <td>NaN</td>\n",
              "      <td>NaN</td>\n",
              "      <td>NaN</td>\n",
              "      <td>NaN</td>\n",
              "    </tr>\n",
              "  </tbody>\n",
              "</table>\n",
              "<p>10000 rows × 8 columns</p>\n",
              "</div>"
            ],
            "text/plain": [
              "      gender              acc_1               acc_2  ... acc_5 acc_6 acc_7\n",
              "0     Female   Green Eye Shadow             Earring  ...   NaN   NaN   NaN\n",
              "1       Male              Smile              Mohawk  ...   NaN   NaN   NaN\n",
              "2     Female          Wild Hair                 NaN  ...   NaN   NaN   NaN\n",
              "3       Male          Wild Hair        Nerd Glasses  ...   NaN   NaN   NaN\n",
              "4       Male         Big Shades           Wild Hair  ...   NaN   NaN   NaN\n",
              "...      ...                ...                 ...  ...   ...   ...   ...\n",
              "9995  Female  Purple Eye Shadow  Straight Hair Dark  ...   NaN   NaN   NaN\n",
              "9996    Male          Cigarette             Earring  ...   NaN   NaN   NaN\n",
              "9997  Zombie        Front Beard         Cap Forward  ...   NaN   NaN   NaN\n",
              "9998  Female    Wild White Hair      Black Lipstick  ...   NaN   NaN   NaN\n",
              "9999  Female             Mohawk        Nerd Glasses  ...   NaN   NaN   NaN\n",
              "\n",
              "[10000 rows x 8 columns]"
            ]
          },
          "metadata": {
            "tags": []
          },
          "execution_count": 6
        }
      ]
    },
    {
      "cell_type": "markdown",
      "metadata": {
        "id": "wbD2VahzOOp6"
      },
      "source": [
        "# Types & Attributes"
      ]
    },
    {
      "cell_type": "code",
      "metadata": {
        "id": "7QTwgLrszNuz",
        "colab": {
          "base_uri": "https://localhost:8080/"
        },
        "outputId": "c5ca5bfb-a95d-4382-da87-f8710c642a99"
      },
      "source": [
        "page = requests.get(\"https://www.larvalabs.com/cryptopunks/attributes\")\n",
        "soup = BeautifulSoup(page.text, \"html.parser\")\n",
        "\n",
        "tr_hist = soup.find_all('table')\n",
        "df_acc_types = pd.read_html(str(tr_hist))[0]\n",
        "df_acc_types = pd.DataFrame(df_acc_types.to_records())\n",
        "\n",
        "dict={'index':'index',\n",
        "      \"('Punk Types', 'Attribute')\":'types',\n",
        "      \"('Unnamed: 1_level_0', '#')\":'number',\n",
        "      \"('Unnamed: 2_level_0', 'Avail')\":'avail',\n",
        "      \"('Unnamed: 3_level_0', 'Avg Sale')\":\"avg_sale\",\n",
        "      \"('Unnamed: 4_level_0', 'Cheapest')\":'cheapest',\n",
        "      \"('Unnamed: 5_level_0', 'More Examples')\":'more_examples'}\n",
        "df_acc_types.rename(columns=dict,\n",
        "          inplace=True)\n",
        "df_acc_types.columns\n",
        "df.head()\n",
        "df_acc_types.avg_sale=df_acc_types.avg_sale.apply(fix_eth)\n",
        "df_acc_types.cheapest=df_acc_types.cheapest.apply(fix_eth)\n",
        "\n",
        "df_acc_types.avg_sale = df_acc_types.avg_sale.astype(np.float32)\n",
        "df_acc_types.cheapest = df_acc_types.cheapest.astype(np.float32)\n",
        "df_acc_types.types = df_acc_types.types.astype('category')\n",
        "df_acc_types.drop('more_examples', axis=1, inplace=True)\n",
        "df_acc_types.info()"
      ],
      "execution_count": 7,
      "outputs": [
        {
          "output_type": "stream",
          "text": [
            "<class 'pandas.core.frame.DataFrame'>\n",
            "RangeIndex: 5 entries, 0 to 4\n",
            "Data columns (total 6 columns):\n",
            " #   Column    Non-Null Count  Dtype   \n",
            "---  ------    --------------  -----   \n",
            " 0   index     5 non-null      int64   \n",
            " 1   types     5 non-null      category\n",
            " 2   number    5 non-null      int64   \n",
            " 3   avail     5 non-null      int64   \n",
            " 4   avg_sale  5 non-null      float32 \n",
            " 5   cheapest  4 non-null      float32 \n",
            "dtypes: category(1), float32(2), int64(3)\n",
            "memory usage: 493.0 bytes\n"
          ],
          "name": "stdout"
        }
      ]
    },
    {
      "cell_type": "markdown",
      "metadata": {
        "id": "yPquvGpJ3xZN"
      },
      "source": [
        "## Feature explanation\n",
        "* number: the amount of crpytopunk that have this feature\n",
        "* avail: amount of crpytopunks currently available for sale\n",
        "* avg_sale: avg sale over the last 90 days\n",
        "* cheapest: cheapest punktwith this attribute that is currently for sale\n",
        "* more example: dropped as it is not readable like this"
      ]
    },
    {
      "cell_type": "code",
      "metadata": {
        "id": "N0p-KHwk1RRR",
        "colab": {
          "base_uri": "https://localhost:8080/"
        },
        "outputId": "8ccd55c4-e10b-41b5-9b91-e9e8c6a35b9e"
      },
      "source": [
        "# scraping attributes data and transforming it\n",
        "tr_hist = soup.find_all('table')\n",
        "df_acc_att = pd.read_html(str(tr_hist))[1]\n",
        "\n",
        "df_acc_att = pd.DataFrame(df_acc_att.to_records())\n",
        "df_acc_att.columns\n",
        "dict={'index':'index',\n",
        "      \"('Attributes', 'Attribute')\":'attributes',\n",
        "      \"('Unnamed: 1_level_0', '#')\":'number',\n",
        "      \"('Unnamed: 2_level_0', 'Avail')\":'avail',\n",
        "      \"('Unnamed: 3_level_0', 'Avg Sale')\":\"avg_sale\",\n",
        "      \"('Unnamed: 4_level_0', 'Cheapest')\":'cheapest',\n",
        "      \"('Unnamed: 5_level_0', 'More Examples')\":'more_examples'}\n",
        "df_acc_att.rename(columns=dict,\n",
        "          inplace=True)\n",
        "df_acc_att.columns\n",
        "\n",
        "df_acc_att.avg_sale=df_acc_att.avg_sale.apply(fix_eth)\n",
        "df_acc_att.cheapest=df_acc_att.cheapest.apply(fix_eth)\n",
        "\n",
        "df_acc_att.avg_sale = df_acc_att.avg_sale.astype(np.float32)\n",
        "df_acc_att.cheapest = df_acc_att.cheapest.astype(np.float32)\n",
        "df_acc_att.attributes = df_acc_att.attributes.astype('category')\n",
        "df_acc_att.drop('more_examples', axis=1, inplace=True)\n",
        "df_acc_att.info()"
      ],
      "execution_count": 8,
      "outputs": [
        {
          "output_type": "stream",
          "text": [
            "<class 'pandas.core.frame.DataFrame'>\n",
            "RangeIndex: 87 entries, 0 to 86\n",
            "Data columns (total 6 columns):\n",
            " #   Column      Non-Null Count  Dtype   \n",
            "---  ------      --------------  -----   \n",
            " 0   index       87 non-null     int64   \n",
            " 1   attributes  87 non-null     category\n",
            " 2   number      87 non-null     int64   \n",
            " 3   avail       87 non-null     int64   \n",
            " 4   avg_sale    87 non-null     float32 \n",
            " 5   cheapest    87 non-null     float32 \n",
            "dtypes: category(1), float32(2), int64(3)\n",
            "memory usage: 6.1 KB\n"
          ],
          "name": "stdout"
        }
      ]
    },
    {
      "cell_type": "markdown",
      "metadata": {
        "id": "KxBCrK5s4yA9"
      },
      "source": [
        "### Graphical discovery for attributes"
      ]
    },
    {
      "cell_type": "code",
      "metadata": {
        "id": "4rdjUdHYzwPo",
        "colab": {
          "base_uri": "https://localhost:8080/",
          "height": 415
        },
        "outputId": "ab38095e-1f59-40c4-a65f-b443b523b270"
      },
      "source": [
        "df_acc_att.sort_values(by=['avg_sale'], ascending=False)"
      ],
      "execution_count": 9,
      "outputs": [
        {
          "output_type": "execute_result",
          "data": {
            "text/html": [
              "<div>\n",
              "<style scoped>\n",
              "    .dataframe tbody tr th:only-of-type {\n",
              "        vertical-align: middle;\n",
              "    }\n",
              "\n",
              "    .dataframe tbody tr th {\n",
              "        vertical-align: top;\n",
              "    }\n",
              "\n",
              "    .dataframe thead th {\n",
              "        text-align: right;\n",
              "    }\n",
              "</style>\n",
              "<table border=\"1\" class=\"dataframe\">\n",
              "  <thead>\n",
              "    <tr style=\"text-align: right;\">\n",
              "      <th></th>\n",
              "      <th>index</th>\n",
              "      <th>attributes</th>\n",
              "      <th>number</th>\n",
              "      <th>avail</th>\n",
              "      <th>avg_sale</th>\n",
              "      <th>cheapest</th>\n",
              "    </tr>\n",
              "  </thead>\n",
              "  <tbody>\n",
              "    <tr>\n",
              "      <th>0</th>\n",
              "      <td>0</td>\n",
              "      <td>Beanie</td>\n",
              "      <td>44</td>\n",
              "      <td>12</td>\n",
              "      <td>160.080002</td>\n",
              "      <td>220.000000</td>\n",
              "    </tr>\n",
              "    <tr>\n",
              "      <th>2</th>\n",
              "      <td>2</td>\n",
              "      <td>Pilot Helmet</td>\n",
              "      <td>54</td>\n",
              "      <td>12</td>\n",
              "      <td>106.309998</td>\n",
              "      <td>110.000000</td>\n",
              "    </tr>\n",
              "    <tr>\n",
              "      <th>4</th>\n",
              "      <td>4</td>\n",
              "      <td>Orange Side</td>\n",
              "      <td>68</td>\n",
              "      <td>12</td>\n",
              "      <td>86.419998</td>\n",
              "      <td>70.000000</td>\n",
              "    </tr>\n",
              "    <tr>\n",
              "      <th>3</th>\n",
              "      <td>3</td>\n",
              "      <td>Tiara</td>\n",
              "      <td>55</td>\n",
              "      <td>12</td>\n",
              "      <td>85.940002</td>\n",
              "      <td>89.989998</td>\n",
              "    </tr>\n",
              "    <tr>\n",
              "      <th>36</th>\n",
              "      <td>36</td>\n",
              "      <td>Hoodie</td>\n",
              "      <td>259</td>\n",
              "      <td>40</td>\n",
              "      <td>62.750000</td>\n",
              "      <td>52.250000</td>\n",
              "    </tr>\n",
              "    <tr>\n",
              "      <th>...</th>\n",
              "      <td>...</td>\n",
              "      <td>...</td>\n",
              "      <td>...</td>\n",
              "      <td>...</td>\n",
              "      <td>...</td>\n",
              "      <td>...</td>\n",
              "    </tr>\n",
              "    <tr>\n",
              "      <th>56</th>\n",
              "      <td>56</td>\n",
              "      <td>Peak Spike</td>\n",
              "      <td>303</td>\n",
              "      <td>40</td>\n",
              "      <td>23.430000</td>\n",
              "      <td>17.230000</td>\n",
              "    </tr>\n",
              "    <tr>\n",
              "      <th>73</th>\n",
              "      <td>73</td>\n",
              "      <td>Stringy Hair</td>\n",
              "      <td>463</td>\n",
              "      <td>59</td>\n",
              "      <td>22.930000</td>\n",
              "      <td>15.500000</td>\n",
              "    </tr>\n",
              "    <tr>\n",
              "      <th>67</th>\n",
              "      <td>67</td>\n",
              "      <td>Mohawk</td>\n",
              "      <td>441</td>\n",
              "      <td>58</td>\n",
              "      <td>22.920000</td>\n",
              "      <td>16.150000</td>\n",
              "    </tr>\n",
              "    <tr>\n",
              "      <th>68</th>\n",
              "      <td>68</td>\n",
              "      <td>Mohawk Thin</td>\n",
              "      <td>441</td>\n",
              "      <td>64</td>\n",
              "      <td>22.549999</td>\n",
              "      <td>15.750000</td>\n",
              "    </tr>\n",
              "    <tr>\n",
              "      <th>53</th>\n",
              "      <td>53</td>\n",
              "      <td>Do-rag</td>\n",
              "      <td>300</td>\n",
              "      <td>45</td>\n",
              "      <td>21.969999</td>\n",
              "      <td>14.850000</td>\n",
              "    </tr>\n",
              "  </tbody>\n",
              "</table>\n",
              "<p>87 rows × 6 columns</p>\n",
              "</div>"
            ],
            "text/plain": [
              "    index    attributes  number  avail    avg_sale    cheapest\n",
              "0       0        Beanie      44     12  160.080002  220.000000\n",
              "2       2  Pilot Helmet      54     12  106.309998  110.000000\n",
              "4       4   Orange Side      68     12   86.419998   70.000000\n",
              "3       3         Tiara      55     12   85.940002   89.989998\n",
              "36     36        Hoodie     259     40   62.750000   52.250000\n",
              "..    ...           ...     ...    ...         ...         ...\n",
              "56     56    Peak Spike     303     40   23.430000   17.230000\n",
              "73     73  Stringy Hair     463     59   22.930000   15.500000\n",
              "67     67        Mohawk     441     58   22.920000   16.150000\n",
              "68     68   Mohawk Thin     441     64   22.549999   15.750000\n",
              "53     53        Do-rag     300     45   21.969999   14.850000\n",
              "\n",
              "[87 rows x 6 columns]"
            ]
          },
          "metadata": {
            "tags": []
          },
          "execution_count": 9
        }
      ]
    },
    {
      "cell_type": "code",
      "metadata": {
        "id": "poYDRJox16c4",
        "outputId": "6b0752b1-16a6-4ea3-aec4-fa92ec7e1dc0",
        "colab": {
          "base_uri": "https://localhost:8080/",
          "height": 403
        }
      },
      "source": [
        "df_acc_att.hist()"
      ],
      "execution_count": 10,
      "outputs": [
        {
          "output_type": "execute_result",
          "data": {
            "text/plain": [
              "array([[<matplotlib.axes._subplots.AxesSubplot object at 0x7fe91f78ce50>,\n",
              "        <matplotlib.axes._subplots.AxesSubplot object at 0x7fe91f6ff590>],\n",
              "       [<matplotlib.axes._subplots.AxesSubplot object at 0x7fe91f6bac10>,\n",
              "        <matplotlib.axes._subplots.AxesSubplot object at 0x7fe91f67f250>],\n",
              "       [<matplotlib.axes._subplots.AxesSubplot object at 0x7fe91f6b28d0>,\n",
              "        <matplotlib.axes._subplots.AxesSubplot object at 0x7fe91f667f50>]],\n",
              "      dtype=object)"
            ]
          },
          "metadata": {
            "tags": []
          },
          "execution_count": 10
        },
        {
          "output_type": "display_data",
          "data": {
            "image/png": "[encoded data removed]",
            "text/plain": [
              "<Figure size 432x288 with 6 Axes>"
            ]
          },
          "metadata": {
            "tags": [],
            "needs_background": "light"
          }
        }
      ]
    },
    {
      "cell_type": "code",
      "metadata": {
        "id": "jAjlZvsw3HdX",
        "outputId": "0ebc8993-d62a-48f2-c133-7fb62c42fd0e",
        "colab": {
          "base_uri": "https://localhost:8080/",
          "height": 352
        }
      },
      "source": [
        "sns.distplot(df_acc_att.avg_sale)"
      ],
      "execution_count": 11,
      "outputs": [
        {
          "output_type": "stream",
          "text": [
            "/usr/local/lib/python3.7/dist-packages/seaborn/distributions.py:2557: FutureWarning: `distplot` is a deprecated function and will be removed in a future version. Please adapt your code to use either `displot` (a figure-level function with similar flexibility) or `histplot` (an axes-level function for histograms).\n",
            "  warnings.warn(msg, FutureWarning)\n"
          ],
          "name": "stderr"
        },
        {
          "output_type": "execute_result",
          "data": {
            "text/plain": [
              "<matplotlib.axes._subplots.AxesSubplot at 0x7fe91efff4d0>"
            ]
          },
          "metadata": {
            "tags": []
          },
          "execution_count": 11
        },
        {
          "output_type": "display_data",
          "data": {
            "image/png": "[encoded data removed]",
            "text/plain": [
              "<Figure size 432x288 with 1 Axes>"
            ]
          },
          "metadata": {
            "tags": [],
            "needs_background": "light"
          }
        }
      ]
    },
    {
      "cell_type": "code",
      "metadata": {
        "id": "UkRidxXM48Q-",
        "outputId": "319a7651-9bb7-43f1-99a7-dba9e70d0195",
        "colab": {
          "base_uri": "https://localhost:8080/",
          "height": 283
        }
      },
      "source": [
        "df_acc_att.boxplot()"
      ],
      "execution_count": 12,
      "outputs": [
        {
          "output_type": "execute_result",
          "data": {
            "text/plain": [
              "<matplotlib.axes._subplots.AxesSubplot at 0x7fe91cf4f610>"
            ]
          },
          "metadata": {
            "tags": []
          },
          "execution_count": 12
        },
        {
          "output_type": "display_data",
          "data": {
            "image/png": "[encoded data removed]",
            "text/plain": [
              "<Figure size 432x288 with 1 Axes>"
            ]
          },
          "metadata": {
            "tags": [],
            "needs_background": "light"
          }
        }
      ]
    },
    {
      "cell_type": "code",
      "metadata": {
        "id": "T_99My-x5hV0",
        "outputId": "651200b2-a47b-4e32-e8cb-e6be7c471fbc",
        "colab": {
          "base_uri": "https://localhost:8080/",
          "height": 297
        }
      },
      "source": [
        "#number of punks that have the same feature compared to average sale price over time\n",
        "sns.lineplot(x=df_acc_att.number, y=df_acc_att.avg_sale)"
      ],
      "execution_count": 13,
      "outputs": [
        {
          "output_type": "execute_result",
          "data": {
            "text/plain": [
              "<matplotlib.axes._subplots.AxesSubplot at 0x7fe91efa1250>"
            ]
          },
          "metadata": {
            "tags": []
          },
          "execution_count": 13
        },
        {
          "output_type": "display_data",
          "data": {
            "image/png": "[encoded data removed]",
            "text/plain": [
              "<Figure size 432x288 with 1 Axes>"
            ]
          },
          "metadata": {
            "tags": [],
            "needs_background": "light"
          }
        }
      ]
    },
    {
      "cell_type": "code",
      "metadata": {
        "id": "2pMti-0iLsGX",
        "outputId": "4aa66643-2414-46f4-8242-3e0529cea50e",
        "colab": {
          "base_uri": "https://localhost:8080/",
          "height": 297
        }
      },
      "source": [
        "sns.lineplot(x=df_acc_att.avg_sale, y=df_acc_att.avail)"
      ],
      "execution_count": 14,
      "outputs": [
        {
          "output_type": "execute_result",
          "data": {
            "text/plain": [
              "<matplotlib.axes._subplots.AxesSubplot at 0x7fe91cdac650>"
            ]
          },
          "metadata": {
            "tags": []
          },
          "execution_count": 14
        },
        {
          "output_type": "display_data",
          "data": {
            "image/png": "[encoded data removed]",
            "text/plain": [
              "<Figure size 432x288 with 1 Axes>"
            ]
          },
          "metadata": {
            "tags": [],
            "needs_background": "light"
          }
        }
      ]
    },
    {
      "cell_type": "markdown",
      "metadata": {
        "id": "yAX8aMm3Ob-a"
      },
      "source": [
        "# Dummy Encode"
      ]
    },
    {
      "cell_type": "code",
      "metadata": {
        "id": "_nu73_hzLIbg"
      },
      "source": [
        "df_test=df.copy()"
      ],
      "execution_count": 15,
      "outputs": []
    },
    {
      "cell_type": "code",
      "metadata": {
        "id": "QiDh07DuLoU4"
      },
      "source": [
        "list_att = df_acc_att.attributes"
      ],
      "execution_count": 16,
      "outputs": []
    },
    {
      "cell_type": "code",
      "metadata": {
        "id": "kK3R9NoYOkI6",
        "outputId": "37779cdd-238e-4e78-ac38-d8b4d242f3c0",
        "colab": {
          "base_uri": "https://localhost:8080/"
        }
      },
      "source": [
        "list_att"
      ],
      "execution_count": 17,
      "outputs": [
        {
          "output_type": "execute_result",
          "data": {
            "text/plain": [
              "0              Beanie\n",
              "1              Choker\n",
              "2        Pilot Helmet\n",
              "3               Tiara\n",
              "4         Orange Side\n",
              "           ...       \n",
              "82               Mole\n",
              "83    Purple Lipstick\n",
              "84       Hot Lipstick\n",
              "85          Cigarette\n",
              "86            Earring\n",
              "Name: attributes, Length: 87, dtype: category\n",
              "Categories (87, object): ['3D Glasses', 'Bandana', 'Beanie', 'Big Beard', ..., 'Welding Goggles',\n",
              "                          'Wild Blonde', 'Wild Hair', 'Wild White Hair']"
            ]
          },
          "metadata": {
            "tags": []
          },
          "execution_count": 17
        }
      ]
    },
    {
      "cell_type": "code",
      "metadata": {
        "id": "gP5FoQafOs0Z",
        "outputId": "270625f3-256f-42b7-d829-913f59aed1d8",
        "colab": {
          "base_uri": "https://localhost:8080/",
          "height": 133
        }
      },
      "source": [
        "g = pd.DataFrame(columns=list_att)\n",
        "\n",
        "g.rename(columns={'index':'number'},\n",
        "          inplace=True)\n",
        "g"
      ],
      "execution_count": 18,
      "outputs": [
        {
          "output_type": "execute_result",
          "data": {
            "text/html": [
              "<div>\n",
              "<style scoped>\n",
              "    .dataframe tbody tr th:only-of-type {\n",
              "        vertical-align: middle;\n",
              "    }\n",
              "\n",
              "    .dataframe tbody tr th {\n",
              "        vertical-align: top;\n",
              "    }\n",
              "\n",
              "    .dataframe thead th {\n",
              "        text-align: right;\n",
              "    }\n",
              "</style>\n",
              "<table border=\"1\" class=\"dataframe\">\n",
              "  <thead>\n",
              "    <tr style=\"text-align: right;\">\n",
              "      <th>attributes</th>\n",
              "      <th>Beanie</th>\n",
              "      <th>Choker</th>\n",
              "      <th>Pilot Helmet</th>\n",
              "      <th>Tiara</th>\n",
              "      <th>Orange Side</th>\n",
              "      <th>Buck Teeth</th>\n",
              "      <th>Welding Goggles</th>\n",
              "      <th>Pigtails</th>\n",
              "      <th>Pink With Hat</th>\n",
              "      <th>Top Hat</th>\n",
              "      <th>Spots</th>\n",
              "      <th>Rosy Cheeks</th>\n",
              "      <th>Blonde Short</th>\n",
              "      <th>Wild White Hair</th>\n",
              "      <th>Cowboy Hat</th>\n",
              "      <th>Wild Blonde</th>\n",
              "      <th>Straight Hair Blonde</th>\n",
              "      <th>Big Beard</th>\n",
              "      <th>Red Mohawk</th>\n",
              "      <th>Half Shaved</th>\n",
              "      <th>Blonde Bob</th>\n",
              "      <th>Vampire Hair</th>\n",
              "      <th>Clown Hair Green</th>\n",
              "      <th>Straight Hair Dark</th>\n",
              "      <th>Straight Hair</th>\n",
              "      <th>Silver Chain</th>\n",
              "      <th>Dark Hair</th>\n",
              "      <th>Purple Hair</th>\n",
              "      <th>Gold Chain</th>\n",
              "      <th>Medical Mask</th>\n",
              "      <th>Tassle Hat</th>\n",
              "      <th>Fedora</th>\n",
              "      <th>Police Cap</th>\n",
              "      <th>Clown Nose</th>\n",
              "      <th>Smile</th>\n",
              "      <th>Cap Forward</th>\n",
              "      <th>Hoodie</th>\n",
              "      <th>Front Beard Dark</th>\n",
              "      <th>Frown</th>\n",
              "      <th>Purple Eye Shadow</th>\n",
              "      <th>...</th>\n",
              "      <th>Luxurious Beard</th>\n",
              "      <th>Mustache</th>\n",
              "      <th>Normal Beard Black</th>\n",
              "      <th>Normal Beard</th>\n",
              "      <th>Eye Mask</th>\n",
              "      <th>Goat</th>\n",
              "      <th>Do-rag</th>\n",
              "      <th>Shaved Head</th>\n",
              "      <th>Muttonchops</th>\n",
              "      <th>Peak Spike</th>\n",
              "      <th>Pipe</th>\n",
              "      <th>VR</th>\n",
              "      <th>Cap</th>\n",
              "      <th>Small Shades</th>\n",
              "      <th>Clown Eyes Green</th>\n",
              "      <th>Clown Eyes Blue</th>\n",
              "      <th>Headband</th>\n",
              "      <th>Crazy Hair</th>\n",
              "      <th>Knitted Cap</th>\n",
              "      <th>Mohawk Dark</th>\n",
              "      <th>Mohawk</th>\n",
              "      <th>Mohawk Thin</th>\n",
              "      <th>Frumpy Hair</th>\n",
              "      <th>Wild Hair</th>\n",
              "      <th>Messy Hair</th>\n",
              "      <th>Eye Patch</th>\n",
              "      <th>Stringy Hair</th>\n",
              "      <th>Bandana</th>\n",
              "      <th>Classic Shades</th>\n",
              "      <th>Shadow Beard</th>\n",
              "      <th>Regular Shades</th>\n",
              "      <th>Horned Rim Glasses</th>\n",
              "      <th>Big Shades</th>\n",
              "      <th>Nerd Glasses</th>\n",
              "      <th>Black Lipstick</th>\n",
              "      <th>Mole</th>\n",
              "      <th>Purple Lipstick</th>\n",
              "      <th>Hot Lipstick</th>\n",
              "      <th>Cigarette</th>\n",
              "      <th>Earring</th>\n",
              "    </tr>\n",
              "  </thead>\n",
              "  <tbody>\n",
              "  </tbody>\n",
              "</table>\n",
              "<p>0 rows × 87 columns</p>\n",
              "</div>"
            ],
            "text/plain": [
              "Empty DataFrame\n",
              "Columns: [Beanie, Choker, Pilot Helmet, Tiara, Orange Side, Buck Teeth, Welding Goggles, Pigtails, Pink With Hat, Top Hat, Spots, Rosy Cheeks, Blonde Short, Wild White Hair, Cowboy Hat, Wild Blonde, Straight Hair Blonde, Big Beard, Red Mohawk, Half Shaved, Blonde Bob, Vampire Hair, Clown Hair Green, Straight Hair Dark, Straight Hair, Silver Chain, Dark Hair, Purple Hair, Gold Chain, Medical Mask, Tassle Hat, Fedora, Police Cap, Clown Nose, Smile, Cap Forward, Hoodie, Front Beard Dark, Frown, Purple Eye Shadow, Handlebars, Blue Eye Shadow, Green Eye Shadow, Vape, Front Beard, Chinstrap, 3D Glasses, Luxurious Beard, Mustache, Normal Beard Black, Normal Beard, Eye Mask, Goat, Do-rag, Shaved Head, Muttonchops, Peak Spike, Pipe, VR, Cap, Small Shades, Clown Eyes Green, Clown Eyes Blue, Headband, Crazy Hair, Knitted Cap, Mohawk Dark, Mohawk, Mohawk Thin, Frumpy Hair, Wild Hair, Messy Hair, Eye Patch, Stringy Hair, Bandana, Classic Shades, Shadow Beard, Regular Shades, Horned Rim Glasses, Big Shades, Nerd Glasses, Black Lipstick, Mole, Purple Lipstick, Hot Lipstick, Cigarette, Earring]\n",
              "Index: []\n",
              "\n",
              "[0 rows x 87 columns]"
            ]
          },
          "metadata": {
            "tags": []
          },
          "execution_count": 18
        }
      ]
    },
    {
      "cell_type": "code",
      "metadata": {
        "id": "z1K8plA8QGQ7",
        "outputId": "d433958d-2e5a-4fb4-aa39-2686734b5ee2",
        "colab": {
          "base_uri": "https://localhost:8080/",
          "height": 202
        }
      },
      "source": [
        "df.head()"
      ],
      "execution_count": 19,
      "outputs": [
        {
          "output_type": "execute_result",
          "data": {
            "text/html": [
              "<div>\n",
              "<style scoped>\n",
              "    .dataframe tbody tr th:only-of-type {\n",
              "        vertical-align: middle;\n",
              "    }\n",
              "\n",
              "    .dataframe tbody tr th {\n",
              "        vertical-align: top;\n",
              "    }\n",
              "\n",
              "    .dataframe thead th {\n",
              "        text-align: right;\n",
              "    }\n",
              "</style>\n",
              "<table border=\"1\" class=\"dataframe\">\n",
              "  <thead>\n",
              "    <tr style=\"text-align: right;\">\n",
              "      <th></th>\n",
              "      <th>gender</th>\n",
              "      <th>acc_1</th>\n",
              "      <th>acc_2</th>\n",
              "      <th>acc_3</th>\n",
              "      <th>acc_4</th>\n",
              "      <th>acc_5</th>\n",
              "      <th>acc_6</th>\n",
              "      <th>acc_7</th>\n",
              "    </tr>\n",
              "  </thead>\n",
              "  <tbody>\n",
              "    <tr>\n",
              "      <th>0</th>\n",
              "      <td>Female</td>\n",
              "      <td>Green Eye Shadow</td>\n",
              "      <td>Earring</td>\n",
              "      <td>Blonde Bob</td>\n",
              "      <td>NaN</td>\n",
              "      <td>NaN</td>\n",
              "      <td>NaN</td>\n",
              "      <td>NaN</td>\n",
              "    </tr>\n",
              "    <tr>\n",
              "      <th>1</th>\n",
              "      <td>Male</td>\n",
              "      <td>Smile</td>\n",
              "      <td>Mohawk</td>\n",
              "      <td>NaN</td>\n",
              "      <td>NaN</td>\n",
              "      <td>NaN</td>\n",
              "      <td>NaN</td>\n",
              "      <td>NaN</td>\n",
              "    </tr>\n",
              "    <tr>\n",
              "      <th>2</th>\n",
              "      <td>Female</td>\n",
              "      <td>Wild Hair</td>\n",
              "      <td>NaN</td>\n",
              "      <td>NaN</td>\n",
              "      <td>NaN</td>\n",
              "      <td>NaN</td>\n",
              "      <td>NaN</td>\n",
              "      <td>NaN</td>\n",
              "    </tr>\n",
              "    <tr>\n",
              "      <th>3</th>\n",
              "      <td>Male</td>\n",
              "      <td>Wild Hair</td>\n",
              "      <td>Nerd Glasses</td>\n",
              "      <td>Pipe</td>\n",
              "      <td>NaN</td>\n",
              "      <td>NaN</td>\n",
              "      <td>NaN</td>\n",
              "      <td>NaN</td>\n",
              "    </tr>\n",
              "    <tr>\n",
              "      <th>4</th>\n",
              "      <td>Male</td>\n",
              "      <td>Big Shades</td>\n",
              "      <td>Wild Hair</td>\n",
              "      <td>Earring</td>\n",
              "      <td>Goat</td>\n",
              "      <td>NaN</td>\n",
              "      <td>NaN</td>\n",
              "      <td>NaN</td>\n",
              "    </tr>\n",
              "  </tbody>\n",
              "</table>\n",
              "</div>"
            ],
            "text/plain": [
              "   gender             acc_1         acc_2       acc_3 acc_4 acc_5 acc_6 acc_7\n",
              "0  Female  Green Eye Shadow       Earring  Blonde Bob   NaN   NaN   NaN   NaN\n",
              "1    Male             Smile        Mohawk         NaN   NaN   NaN   NaN   NaN\n",
              "2  Female         Wild Hair           NaN         NaN   NaN   NaN   NaN   NaN\n",
              "3    Male         Wild Hair  Nerd Glasses        Pipe   NaN   NaN   NaN   NaN\n",
              "4    Male        Big Shades     Wild Hair     Earring  Goat   NaN   NaN   NaN"
            ]
          },
          "metadata": {
            "tags": []
          },
          "execution_count": 19
        }
      ]
    },
    {
      "cell_type": "code",
      "metadata": {
        "id": "RuXX5KZpQoZd"
      },
      "source": [
        "df.loc[df.acc_1=='Earring', 'acc_1':'acc_7']"
      ],
      "execution_count": null,
      "outputs": []
    },
    {
      "cell_type": "code",
      "metadata": {
        "id": "E0zvazLQRnlh",
        "outputId": "e6ee1e36-59f1-4107-9a26-8fa7c0c6536e",
        "colab": {
          "base_uri": "https://localhost:8080/"
        }
      },
      "source": [
        "if df.loc[1,:].str.contains('Smile').any():\n",
        "    print(\"TX is there\")"
      ],
      "execution_count": 24,
      "outputs": [
        {
          "output_type": "stream",
          "text": [
            "TX is there\n"
          ],
          "name": "stdout"
        }
      ]
    },
    {
      "cell_type": "code",
      "metadata": {
        "id": "WhhSOPadnZQb",
        "outputId": "2ade1246-ecf8-4054-fdf0-84762e53b91c",
        "colab": {
          "base_uri": "https://localhost:8080/",
          "height": 132
        }
      },
      "source": [
        "x=g.copy()\n",
        "x"
      ],
      "execution_count": 32,
      "outputs": [
        {
          "output_type": "execute_result",
          "data": {
            "text/html": [
              "<div>\n",
              "<style scoped>\n",
              "    .dataframe tbody tr th:only-of-type {\n",
              "        vertical-align: middle;\n",
              "    }\n",
              "\n",
              "    .dataframe tbody tr th {\n",
              "        vertical-align: top;\n",
              "    }\n",
              "\n",
              "    .dataframe thead th {\n",
              "        text-align: right;\n",
              "    }\n",
              "</style>\n",
              "<table border=\"1\" class=\"dataframe\">\n",
              "  <thead>\n",
              "    <tr style=\"text-align: right;\">\n",
              "      <th>attributes</th>\n",
              "      <th>Beanie</th>\n",
              "      <th>Choker</th>\n",
              "      <th>Pilot Helmet</th>\n",
              "      <th>Tiara</th>\n",
              "      <th>Orange Side</th>\n",
              "      <th>Buck Teeth</th>\n",
              "      <th>Welding Goggles</th>\n",
              "      <th>Pigtails</th>\n",
              "      <th>Pink With Hat</th>\n",
              "      <th>Top Hat</th>\n",
              "      <th>Spots</th>\n",
              "      <th>Rosy Cheeks</th>\n",
              "      <th>Blonde Short</th>\n",
              "      <th>Wild White Hair</th>\n",
              "      <th>Cowboy Hat</th>\n",
              "      <th>Wild Blonde</th>\n",
              "      <th>Straight Hair Blonde</th>\n",
              "      <th>Big Beard</th>\n",
              "      <th>Red Mohawk</th>\n",
              "      <th>Half Shaved</th>\n",
              "      <th>Blonde Bob</th>\n",
              "      <th>Vampire Hair</th>\n",
              "      <th>Clown Hair Green</th>\n",
              "      <th>Straight Hair Dark</th>\n",
              "      <th>Straight Hair</th>\n",
              "      <th>Silver Chain</th>\n",
              "      <th>Dark Hair</th>\n",
              "      <th>Purple Hair</th>\n",
              "      <th>Gold Chain</th>\n",
              "      <th>Medical Mask</th>\n",
              "      <th>Tassle Hat</th>\n",
              "      <th>Fedora</th>\n",
              "      <th>Police Cap</th>\n",
              "      <th>Clown Nose</th>\n",
              "      <th>Smile</th>\n",
              "      <th>Cap Forward</th>\n",
              "      <th>Hoodie</th>\n",
              "      <th>Front Beard Dark</th>\n",
              "      <th>Frown</th>\n",
              "      <th>Purple Eye Shadow</th>\n",
              "      <th>...</th>\n",
              "      <th>Luxurious Beard</th>\n",
              "      <th>Mustache</th>\n",
              "      <th>Normal Beard Black</th>\n",
              "      <th>Normal Beard</th>\n",
              "      <th>Eye Mask</th>\n",
              "      <th>Goat</th>\n",
              "      <th>Do-rag</th>\n",
              "      <th>Shaved Head</th>\n",
              "      <th>Muttonchops</th>\n",
              "      <th>Peak Spike</th>\n",
              "      <th>Pipe</th>\n",
              "      <th>VR</th>\n",
              "      <th>Cap</th>\n",
              "      <th>Small Shades</th>\n",
              "      <th>Clown Eyes Green</th>\n",
              "      <th>Clown Eyes Blue</th>\n",
              "      <th>Headband</th>\n",
              "      <th>Crazy Hair</th>\n",
              "      <th>Knitted Cap</th>\n",
              "      <th>Mohawk Dark</th>\n",
              "      <th>Mohawk</th>\n",
              "      <th>Mohawk Thin</th>\n",
              "      <th>Frumpy Hair</th>\n",
              "      <th>Wild Hair</th>\n",
              "      <th>Messy Hair</th>\n",
              "      <th>Eye Patch</th>\n",
              "      <th>Stringy Hair</th>\n",
              "      <th>Bandana</th>\n",
              "      <th>Classic Shades</th>\n",
              "      <th>Shadow Beard</th>\n",
              "      <th>Regular Shades</th>\n",
              "      <th>Horned Rim Glasses</th>\n",
              "      <th>Big Shades</th>\n",
              "      <th>Nerd Glasses</th>\n",
              "      <th>Black Lipstick</th>\n",
              "      <th>Mole</th>\n",
              "      <th>Purple Lipstick</th>\n",
              "      <th>Hot Lipstick</th>\n",
              "      <th>Cigarette</th>\n",
              "      <th>Earring</th>\n",
              "    </tr>\n",
              "  </thead>\n",
              "  <tbody>\n",
              "  </tbody>\n",
              "</table>\n",
              "<p>0 rows × 87 columns</p>\n",
              "</div>"
            ],
            "text/plain": [
              "Empty DataFrame\n",
              "Columns: [Beanie, Choker, Pilot Helmet, Tiara, Orange Side, Buck Teeth, Welding Goggles, Pigtails, Pink With Hat, Top Hat, Spots, Rosy Cheeks, Blonde Short, Wild White Hair, Cowboy Hat, Wild Blonde, Straight Hair Blonde, Big Beard, Red Mohawk, Half Shaved, Blonde Bob, Vampire Hair, Clown Hair Green, Straight Hair Dark, Straight Hair, Silver Chain, Dark Hair, Purple Hair, Gold Chain, Medical Mask, Tassle Hat, Fedora, Police Cap, Clown Nose, Smile, Cap Forward, Hoodie, Front Beard Dark, Frown, Purple Eye Shadow, Handlebars, Blue Eye Shadow, Green Eye Shadow, Vape, Front Beard, Chinstrap, 3D Glasses, Luxurious Beard, Mustache, Normal Beard Black, Normal Beard, Eye Mask, Goat, Do-rag, Shaved Head, Muttonchops, Peak Spike, Pipe, VR, Cap, Small Shades, Clown Eyes Green, Clown Eyes Blue, Headband, Crazy Hair, Knitted Cap, Mohawk Dark, Mohawk, Mohawk Thin, Frumpy Hair, Wild Hair, Messy Hair, Eye Patch, Stringy Hair, Bandana, Classic Shades, Shadow Beard, Regular Shades, Horned Rim Glasses, Big Shades, Nerd Glasses, Black Lipstick, Mole, Purple Lipstick, Hot Lipstick, Cigarette, Earring]\n",
              "Index: []\n",
              "\n",
              "[0 rows x 87 columns]"
            ]
          },
          "metadata": {
            "tags": []
          },
          "execution_count": 32
        }
      ]
    },
    {
      "cell_type": "code",
      "metadata": {
        "id": "-8kjla1gozjw",
        "outputId": "5dd819fa-3458-4d37-8192-4a1b21fdfb4a",
        "colab": {
          "base_uri": "https://localhost:8080/"
        }
      },
      "source": [
        "df.shape[0].range()"
      ],
      "execution_count": 41,
      "outputs": [
        {
          "output_type": "execute_result",
          "data": {
            "text/plain": [
              "10000"
            ]
          },
          "metadata": {
            "tags": []
          },
          "execution_count": 41
        }
      ]
    },
    {
      "cell_type": "code",
      "metadata": {
        "id": "s96Hi02cRYcf"
      },
      "source": [
        "for counter in range(df.shape[0]):\n",
        "  for i in g:\n",
        "    if df.loc[counter,:].str.contains(i).any():\n",
        "      # print(counter, ' contains ', i)\n",
        "      x.loc[counter,i] = 1\n",
        "\n",
        "\n",
        "\n",
        "x.to_csv('accessories_transformed.csv', mode='w', index=False)\n",
        "      \n",
        "    "
      ],
      "execution_count": 42,
      "outputs": []
    }
  ]
}