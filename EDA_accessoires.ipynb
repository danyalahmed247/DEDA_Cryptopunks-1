{
  "nbformat": 4,
  "nbformat_minor": 0,
  "metadata": {
    "colab": {
      "name": "Untitled0.ipynb",
      "provenance": [],
      "collapsed_sections": [],
      "authorship_tag": "ABX9TyNIeVHMVp6gyi8jB7mA9s9D",
      "include_colab_link": true
    },
    "kernelspec": {
      "name": "python3",
      "display_name": "Python 3"
    },
    "language_info": {
      "name": "python"
    }
  },
  "cells": [
    {
      "cell_type": "markdown",
      "metadata": {
        "id": "view-in-github",
        "colab_type": "text"
      },
      "source": [
        "<a href=\"https://colab.research.google.com/github/kalinakalina/DEDA_Cryptopunks/blob/main/EDA_accessoires.ipynb\" target=\"_parent\"><img src=\"https://colab.research.google.com/assets/colab-badge.svg\" alt=\"Open In Colab\"/></a>"
      ]
    },
    {
      "cell_type": "code",
      "metadata": {
        "colab": {
          "base_uri": "https://localhost:8080/"
        },
        "id": "RxGz4e5BCxGK",
        "outputId": "991e4df6-a3d4-437c-abf8-10310637aefa"
      },
      "source": [
        "print('hello')"
      ],
      "execution_count": null,
      "outputs": [
        {
          "output_type": "stream",
          "text": [
            "hi\n"
          ],
          "name": "stdout"
        }
      ]
    },
    {
      "cell_type": "code",
      "metadata": {
        "id": "4IyRvhzbhiVG"
      },
      "source": [
        "# imports\n",
        "import pandas as pd "
      ],
      "execution_count": null,
      "outputs": []
    },
    {
      "cell_type": "code",
      "metadata": {
        "id": "4MXtXAEqhhrb",
        "outputId": "7322b504-0d5a-4313-e844-fa3e2ccdf639",
        "colab": {
          "base_uri": "https://localhost:8080/",
          "height": 202
        }
      },
      "source": [
        "# import transaction \n",
        "file = 'https://raw.githubusercontent.com/kalinakalina/DEDA_Cryptopunks/main/transaction.csv?token=AH46LUSFPS756K3PCIWICNDAUN3MS'\n",
        "dft = pd.read_csv(file, header=None)\n",
        "dft.head()"
      ],
      "execution_count": 14,
      "outputs": [
        {
          "output_type": "execute_result",
          "data": {
            "text/html": [
              "<div>\n",
              "<style scoped>\n",
              "    .dataframe tbody tr th:only-of-type {\n",
              "        vertical-align: middle;\n",
              "    }\n",
              "\n",
              "    .dataframe tbody tr th {\n",
              "        vertical-align: top;\n",
              "    }\n",
              "\n",
              "    .dataframe thead th {\n",
              "        text-align: right;\n",
              "    }\n",
              "</style>\n",
              "<table border=\"1\" class=\"dataframe\">\n",
              "  <thead>\n",
              "    <tr style=\"text-align: right;\">\n",
              "      <th></th>\n",
              "      <th>0</th>\n",
              "      <th>1</th>\n",
              "      <th>2</th>\n",
              "      <th>3</th>\n",
              "      <th>4</th>\n",
              "      <th>5</th>\n",
              "      <th>6</th>\n",
              "      <th>7</th>\n",
              "    </tr>\n",
              "  </thead>\n",
              "  <tbody>\n",
              "    <tr>\n",
              "      <th>0</th>\n",
              "      <td>0</td>\n",
              "      <td>Bid Withdrawn</td>\n",
              "      <td>0x983ace</td>\n",
              "      <td>NaN</td>\n",
              "      <td>2021-05-10</td>\n",
              "      <td>0</td>\n",
              "      <td>250.0</td>\n",
              "      <td>1030000.0</td>\n",
              "    </tr>\n",
              "    <tr>\n",
              "      <th>1</th>\n",
              "      <td>1</td>\n",
              "      <td>Bid</td>\n",
              "      <td>0x983ace</td>\n",
              "      <td>NaN</td>\n",
              "      <td>2021-04-11</td>\n",
              "      <td>0</td>\n",
              "      <td>250.0</td>\n",
              "      <td>537,615</td>\n",
              "    </tr>\n",
              "    <tr>\n",
              "      <th>2</th>\n",
              "      <td>2</td>\n",
              "      <td>Bid Withdrawn</td>\n",
              "      <td>0xd7510a</td>\n",
              "      <td>NaN</td>\n",
              "      <td>2021-03-03</td>\n",
              "      <td>0</td>\n",
              "      <td>100.0</td>\n",
              "      <td>160,973</td>\n",
              "    </tr>\n",
              "    <tr>\n",
              "      <th>3</th>\n",
              "      <td>3</td>\n",
              "      <td>Bid</td>\n",
              "      <td>0xd7510a</td>\n",
              "      <td>NaN</td>\n",
              "      <td>2021-02-20</td>\n",
              "      <td>0</td>\n",
              "      <td>100.0</td>\n",
              "      <td>188,897</td>\n",
              "    </tr>\n",
              "    <tr>\n",
              "      <th>4</th>\n",
              "      <td>4</td>\n",
              "      <td>Bid Withdrawn</td>\n",
              "      <td>natealex</td>\n",
              "      <td>NaN</td>\n",
              "      <td>2020-09-16</td>\n",
              "      <td>0</td>\n",
              "      <td>69.0</td>\n",
              "      <td>25,532</td>\n",
              "    </tr>\n",
              "  </tbody>\n",
              "</table>\n",
              "</div>"
            ],
            "text/plain": [
              "   0              1         2    3           4  5      6          7\n",
              "0  0  Bid Withdrawn  0x983ace  NaN  2021-05-10  0  250.0  1030000.0\n",
              "1  1            Bid  0x983ace  NaN  2021-04-11  0  250.0    537,615\n",
              "2  2  Bid Withdrawn  0xd7510a  NaN  2021-03-03  0  100.0    160,973\n",
              "3  3            Bid  0xd7510a  NaN  2021-02-20  0  100.0    188,897\n",
              "4  4  Bid Withdrawn  natealex  NaN  2020-09-16  0   69.0     25,532"
            ]
          },
          "metadata": {
            "tags": []
          },
          "execution_count": 14
        }
      ]
    },
    {
      "cell_type": "code",
      "metadata": {
        "id": "yHQeIoghfJw1",
        "outputId": "20587b24-8406-47a3-d743-6be50c79e176",
        "colab": {
          "base_uri": "https://localhost:8080/",
          "height": 202
        }
      },
      "source": [
        "# import accessoires \n",
        "names=['gender', 'acc_1', 'acc_2', 'acc_3', 'acc_4', 'acc_5', 'acc_6', 'acc_7']\n",
        "file = 'https://raw.githubusercontent.com/kalinakalina/DEDA_Cryptopunks/main/accessories.csv?token=AH46LUQH7B2CAACL2JOHNCDAUN6AI'\n",
        "df = pd.read_csv(file, header=None, sep='\\n')\n",
        "df = df[0].str.split(',', expand=True)\n",
        "df.drop(0, axis=1, inplace=True)\n",
        "df.head()\n"
      ],
      "execution_count": 31,
      "outputs": [
        {
          "output_type": "execute_result",
          "data": {
            "text/html": [
              "<div>\n",
              "<style scoped>\n",
              "    .dataframe tbody tr th:only-of-type {\n",
              "        vertical-align: middle;\n",
              "    }\n",
              "\n",
              "    .dataframe tbody tr th {\n",
              "        vertical-align: top;\n",
              "    }\n",
              "\n",
              "    .dataframe thead th {\n",
              "        text-align: right;\n",
              "    }\n",
              "</style>\n",
              "<table border=\"1\" class=\"dataframe\">\n",
              "  <thead>\n",
              "    <tr style=\"text-align: right;\">\n",
              "      <th></th>\n",
              "      <th>1</th>\n",
              "      <th>2</th>\n",
              "      <th>3</th>\n",
              "      <th>4</th>\n",
              "      <th>5</th>\n",
              "      <th>6</th>\n",
              "      <th>7</th>\n",
              "      <th>8</th>\n",
              "    </tr>\n",
              "  </thead>\n",
              "  <tbody>\n",
              "    <tr>\n",
              "      <th>0</th>\n",
              "      <td>Female</td>\n",
              "      <td>Green Eye Shadow</td>\n",
              "      <td>Earring</td>\n",
              "      <td>Blonde Bob</td>\n",
              "      <td>None</td>\n",
              "      <td>None</td>\n",
              "      <td>None</td>\n",
              "      <td>None</td>\n",
              "    </tr>\n",
              "    <tr>\n",
              "      <th>1</th>\n",
              "      <td>Male</td>\n",
              "      <td>Smile</td>\n",
              "      <td>Mohawk</td>\n",
              "      <td>None</td>\n",
              "      <td>None</td>\n",
              "      <td>None</td>\n",
              "      <td>None</td>\n",
              "      <td>None</td>\n",
              "    </tr>\n",
              "    <tr>\n",
              "      <th>2</th>\n",
              "      <td>Female</td>\n",
              "      <td>Wild Hair</td>\n",
              "      <td>None</td>\n",
              "      <td>None</td>\n",
              "      <td>None</td>\n",
              "      <td>None</td>\n",
              "      <td>None</td>\n",
              "      <td>None</td>\n",
              "    </tr>\n",
              "    <tr>\n",
              "      <th>3</th>\n",
              "      <td>Male</td>\n",
              "      <td>Wild Hair</td>\n",
              "      <td>Nerd Glasses</td>\n",
              "      <td>Pipe</td>\n",
              "      <td>None</td>\n",
              "      <td>None</td>\n",
              "      <td>None</td>\n",
              "      <td>None</td>\n",
              "    </tr>\n",
              "    <tr>\n",
              "      <th>4</th>\n",
              "      <td>Male</td>\n",
              "      <td>Big Shades</td>\n",
              "      <td>Wild Hair</td>\n",
              "      <td>Earring</td>\n",
              "      <td>Goat</td>\n",
              "      <td>None</td>\n",
              "      <td>None</td>\n",
              "      <td>None</td>\n",
              "    </tr>\n",
              "  </tbody>\n",
              "</table>\n",
              "</div>"
            ],
            "text/plain": [
              "        1                 2             3           4     5     6     7     8\n",
              "0  Female  Green Eye Shadow       Earring  Blonde Bob  None  None  None  None\n",
              "1    Male             Smile        Mohawk        None  None  None  None  None\n",
              "2  Female         Wild Hair          None        None  None  None  None  None\n",
              "3    Male         Wild Hair  Nerd Glasses        Pipe  None  None  None  None\n",
              "4    Male        Big Shades     Wild Hair     Earring  Goat  None  None  None"
            ]
          },
          "metadata": {
            "tags": []
          },
          "execution_count": 31
        }
      ]
    },
    {
      "cell_type": "code",
      "metadata": {
        "id": "Ah2FlVO1hNpl",
        "outputId": "8436ef9a-e3a6-485c-cada-b9d13258edb2",
        "colab": {
          "base_uri": "https://localhost:8080/",
          "height": 202
        }
      },
      "source": [
        "dict={1:'gender', \n",
        "      2:  'acc_1',\n",
        "      3:'acc_2', \n",
        "      4: 'acc_3',\n",
        "      5:'acc_4',\n",
        "      6: 'acc_5',\n",
        "      7:'acc_6',\n",
        "      8:'acc_7'}\n",
        "df.rename(columns=dict,\n",
        "          inplace=True)\n",
        "  \n",
        "df.head()"
      ],
      "execution_count": 33,
      "outputs": [
        {
          "output_type": "execute_result",
          "data": {
            "text/html": [
              "<div>\n",
              "<style scoped>\n",
              "    .dataframe tbody tr th:only-of-type {\n",
              "        vertical-align: middle;\n",
              "    }\n",
              "\n",
              "    .dataframe tbody tr th {\n",
              "        vertical-align: top;\n",
              "    }\n",
              "\n",
              "    .dataframe thead th {\n",
              "        text-align: right;\n",
              "    }\n",
              "</style>\n",
              "<table border=\"1\" class=\"dataframe\">\n",
              "  <thead>\n",
              "    <tr style=\"text-align: right;\">\n",
              "      <th></th>\n",
              "      <th>gender</th>\n",
              "      <th>acc_1</th>\n",
              "      <th>acc_2</th>\n",
              "      <th>acc_3</th>\n",
              "      <th>acc_4</th>\n",
              "      <th>acc_5</th>\n",
              "      <th>acc_6</th>\n",
              "      <th>acc_7</th>\n",
              "    </tr>\n",
              "  </thead>\n",
              "  <tbody>\n",
              "    <tr>\n",
              "      <th>0</th>\n",
              "      <td>Female</td>\n",
              "      <td>Green Eye Shadow</td>\n",
              "      <td>Earring</td>\n",
              "      <td>Blonde Bob</td>\n",
              "      <td>None</td>\n",
              "      <td>None</td>\n",
              "      <td>None</td>\n",
              "      <td>None</td>\n",
              "    </tr>\n",
              "    <tr>\n",
              "      <th>1</th>\n",
              "      <td>Male</td>\n",
              "      <td>Smile</td>\n",
              "      <td>Mohawk</td>\n",
              "      <td>None</td>\n",
              "      <td>None</td>\n",
              "      <td>None</td>\n",
              "      <td>None</td>\n",
              "      <td>None</td>\n",
              "    </tr>\n",
              "    <tr>\n",
              "      <th>2</th>\n",
              "      <td>Female</td>\n",
              "      <td>Wild Hair</td>\n",
              "      <td>None</td>\n",
              "      <td>None</td>\n",
              "      <td>None</td>\n",
              "      <td>None</td>\n",
              "      <td>None</td>\n",
              "      <td>None</td>\n",
              "    </tr>\n",
              "    <tr>\n",
              "      <th>3</th>\n",
              "      <td>Male</td>\n",
              "      <td>Wild Hair</td>\n",
              "      <td>Nerd Glasses</td>\n",
              "      <td>Pipe</td>\n",
              "      <td>None</td>\n",
              "      <td>None</td>\n",
              "      <td>None</td>\n",
              "      <td>None</td>\n",
              "    </tr>\n",
              "    <tr>\n",
              "      <th>4</th>\n",
              "      <td>Male</td>\n",
              "      <td>Big Shades</td>\n",
              "      <td>Wild Hair</td>\n",
              "      <td>Earring</td>\n",
              "      <td>Goat</td>\n",
              "      <td>None</td>\n",
              "      <td>None</td>\n",
              "      <td>None</td>\n",
              "    </tr>\n",
              "  </tbody>\n",
              "</table>\n",
              "</div>"
            ],
            "text/plain": [
              "   gender             acc_1         acc_2       acc_3 acc_4 acc_5 acc_6 acc_7\n",
              "0  Female  Green Eye Shadow       Earring  Blonde Bob  None  None  None  None\n",
              "1    Male             Smile        Mohawk        None  None  None  None  None\n",
              "2  Female         Wild Hair          None        None  None  None  None  None\n",
              "3    Male         Wild Hair  Nerd Glasses        Pipe  None  None  None  None\n",
              "4    Male        Big Shades     Wild Hair     Earring  Goat  None  None  None"
            ]
          },
          "metadata": {
            "tags": []
          },
          "execution_count": 33
        }
      ]
    },
    {
      "cell_type": "code",
      "metadata": {
        "id": "mrylH87TjgU4",
        "outputId": "2f3e2644-adf8-4596-e254-8354860a023a",
        "colab": {
          "base_uri": "https://localhost:8080/"
        }
      },
      "source": [
        "columns = df.select_dtypes(include=[object]).columns\n",
        "df[columns] = df[columns].astype('category')\n",
        "df.info()"
      ],
      "execution_count": 39,
      "outputs": [
        {
          "output_type": "stream",
          "text": [
            "<class 'pandas.core.frame.DataFrame'>\n",
            "RangeIndex: 10000 entries, 0 to 9999\n",
            "Data columns (total 8 columns):\n",
            " #   Column  Non-Null Count  Dtype   \n",
            "---  ------  --------------  -----   \n",
            " 0   gender  10000 non-null  category\n",
            " 1   acc_1   9992 non-null   category\n",
            " 2   acc_2   9659 non-null   category\n",
            " 3   acc_3   6099 non-null   category\n",
            " 4   acc_4   1598 non-null   category\n",
            " 5   acc_5   178 non-null    category\n",
            " 6   acc_6   12 non-null     category\n",
            " 7   acc_7   1 non-null      category\n",
            "dtypes: category(8)\n",
            "memory usage: 92.9 KB\n"
          ],
          "name": "stdout"
        }
      ]
    },
    {
      "cell_type": "code",
      "metadata": {
        "id": "I0gg3OtiuaWw",
        "outputId": "463aeacc-6ebe-4bb5-cd3f-adc0dc4d19a7",
        "colab": {
          "base_uri": "https://localhost:8080/",
          "height": 375
        }
      },
      "source": [
        "print(df.acc_4.value_counts().plot.bar())"
      ],
      "execution_count": 40,
      "outputs": [
        {
          "output_type": "stream",
          "text": [
            "AxesSubplot(0.125,0.125;0.775x0.755)\n"
          ],
          "name": "stdout"
        },
        {
          "output_type": "display_data",
          "data": {
            "image/png": "[encoded data removed]",
            "text/plain": [
              "<Figure size 432x288 with 1 Axes>"
            ]
          },
          "metadata": {
            "tags": [],
            "needs_background": "light"
          }
        }
      ]
    }
  ]
}